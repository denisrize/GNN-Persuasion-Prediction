{
  "cells": [
    {
      "cell_type": "markdown",
      "metadata": {
        "id": "AbDTsU1N62ex"
      },
      "source": [
        "# Imports"
      ]
    },
    {
      "cell_type": "code",
      "execution_count": 17,
      "metadata": {
        "colab": {
          "base_uri": "https://localhost:8080/"
        },
        "id": "hZ6_L10A62ex",
        "outputId": "48380347-3bc7-441a-b00c-08c60e9f1b9e"
      },
      "outputs": [
        {
          "name": "stderr",
          "output_type": "stream",
          "text": [
            "[nltk_data] Downloading package punkt to /home/rize/nltk_data...\n",
            "[nltk_data]   Package punkt is already up-to-date!\n",
            "[nltk_data] Downloading package stopwords to /home/rize/nltk_data...\n",
            "[nltk_data]   Package stopwords is already up-to-date!\n",
            "[nltk_data] Downloading package punkt_tab to /home/rize/nltk_data...\n",
            "[nltk_data]   Package punkt_tab is already up-to-date!\n"
          ]
        }
      ],
      "source": [
        "import os\n",
        "import json\n",
        "import numpy as np\n",
        "import pandas as pd\n",
        "import matplotlib.pyplot as plt\n",
        "import seaborn as sns\n",
        "import itertools\n",
        "import torch\n",
        "from transformers import BertTokenizer, BertModel\n",
        "import networkx as nx\n",
        "from torch_geometric.data import Data\n",
        "from torch_geometric.nn import GCNConv\n",
        "from torch.nn import functional as F\n",
        "import bz2\n",
        "import nltk\n",
        "import re\n",
        "import torch.optim as optim\n",
        "import torch.nn as nn\n",
        "nltk.download('punkt')\n",
        "nltk.download('stopwords')\n",
        "nltk.download('punkt_tab')\n",
        "from tqdm import tqdm\n",
        "from nltk.tokenize import word_tokenize\n",
        "from sklearn.metrics import roc_auc_score, roc_curve, classification_report, accuracy_score, f1_score, confusion_matrix, ConfusionMatrixDisplay\n",
        "from sklearn.model_selection import train_test_split\n",
        "from nltk.corpus import stopwords\n",
        "import random\n",
        "from torch_geometric.loader import DataLoader\n",
        "from torch_geometric.data import Data\n",
        "from sklearn.metrics import confusion_matrix, classification_report, ConfusionMatrixDisplay\n",
        "from itertools import product\n",
        "from sklearn.utils.class_weight import compute_class_weight\n",
        "random.seed(42)"
      ]
    },
    {
      "cell_type": "code",
      "execution_count": 2,
      "metadata": {},
      "outputs": [],
      "source": [
        "# Paths to directories (update these paths as necessary)\n",
        "root_dir = '/home/rize/deep_assignments/NLP'"
      ]
    },
    {
      "cell_type": "markdown",
      "metadata": {
        "id": "883ojwyE62ey",
        "jp-MarkdownHeadingCollapsed": true
      },
      "source": [
        "# Extract Data"
      ]
    },
    {
      "cell_type": "code",
      "execution_count": null,
      "metadata": {
        "id": "e1OJI4F162ey"
      },
      "outputs": [],
      "source": [
        "# Extract and save the decompressed content to a new file\n",
        "# with bz2.open('heldout_op_data.jsonlist.bz2', 'rt') as compressed_file:\n",
        "#     with open('heldout_op_data.jsonlist', 'w') as decompressed_file:\n",
        "#         decompressed_file.write(compressed_file.read())\n",
        "\n",
        "# with bz2.open('train_op_data.jsonlist.bz2', 'rt') as compressed_file:\n",
        "#     with open('train_op_data.jsonlist', 'w') as decompressed_file:\n",
        "#         decompressed_file.write(compressed_file.read())\n",
        "\n",
        "with bz2.open(f'{root_dir}/pair_task/heldout_pair_data.jsonlist.bz2', 'rt') as compressed_file:\n",
        "    with open(f'{root_dir}/pair_task/heldout_pair_data.jsonlist', 'w') as decompressed_file:\n",
        "        decompressed_file.write(compressed_file.read())\n",
        "\n",
        "with bz2.open(f'{root_dir}/pair_task/train_pair_data.jsonlist.bz2', 'rt') as compressed_file:\n",
        "    with open(f'{root_dir}/pair_task/train_pair_data.jsonlist', 'w') as decompressed_file:\n",
        "        decompressed_file.write(compressed_file.read())\n",
        "\n",
        "with bz2.open(f'{root_dir}/all/heldout_period_data.jsonlist.bz2', 'rt') as compressed_file:\n",
        "    with open(f'{root_dir}/all/heldout_period_data.jsonlist', 'w') as decompressed_file:\n",
        "        decompressed_file.write(compressed_file.read())\n",
        "\n",
        "with bz2.open(f'{root_dir}/all/train_period_data.jsonlist.bz2', 'rt') as compressed_file:\n",
        "    with open(f'{root_dir}/all/train_period_data.jsonlist', 'w') as decompressed_file:\n",
        "        decompressed_file.write(compressed_file.read())"
      ]
    },
    {
      "cell_type": "markdown",
      "metadata": {
        "id": "pll7A1R462ey"
      },
      "source": [
        "# EDA"
      ]
    },
    {
      "cell_type": "markdown",
      "metadata": {
        "id": "l-CXhWTSgvym"
      },
      "source": [
        "### Analyze op data set (original post)"
      ]
    },
    {
      "cell_type": "markdown",
      "metadata": {
        "id": "9UHntr__hHgB"
      },
      "source": [
        "- delta_label\" shows whether the OP changed her opinion (True if she changed her mind, False if not).\n",
        "\n",
        "- \"selftext\" and \"title\" provide textual information\n",
        "\n",
        "- \"name\" is an identifier that can be used to find more submission-related information in the corresponding file in all/."
      ]
    },
    {
      "cell_type": "code",
      "execution_count": null,
      "metadata": {
        "colab": {
          "base_uri": "https://localhost:8080/",
          "height": 339
        },
        "id": "TITnMjHtft4b",
        "outputId": "fc195a8f-475d-44b7-a4b2-ea4cc83bb9e0"
      },
      "outputs": [
        {
          "ename": "KeyboardInterrupt",
          "evalue": "",
          "output_type": "error",
          "traceback": [
            "\u001b[0;31m---------------------------------------------------------------------------\u001b[0m",
            "\u001b[0;31mKeyboardInterrupt\u001b[0m                         Traceback (most recent call last)",
            "\u001b[0;32m<ipython-input-13-4cdc4d58aa9f>\u001b[0m in \u001b[0;36m<cell line: 2>\u001b[0;34m()\u001b[0m\n\u001b[1;32m      1\u001b[0m \u001b[0;31m# Create Combined DataFrames\u001b[0m\u001b[0;34m\u001b[0m\u001b[0;34m\u001b[0m\u001b[0m\n\u001b[0;32m----> 2\u001b[0;31m \u001b[0mtest_df\u001b[0m \u001b[0;34m=\u001b[0m \u001b[0mpd\u001b[0m\u001b[0;34m.\u001b[0m\u001b[0mread_json\u001b[0m\u001b[0;34m(\u001b[0m\u001b[0;34m'heldout_period_data.jsonlist'\u001b[0m\u001b[0;34m,\u001b[0m \u001b[0mlines\u001b[0m\u001b[0;34m=\u001b[0m\u001b[0;32mTrue\u001b[0m\u001b[0;34m)\u001b[0m\u001b[0;34m\u001b[0m\u001b[0;34m\u001b[0m\u001b[0m\n\u001b[0m\u001b[1;32m      3\u001b[0m \u001b[0mtrain_df\u001b[0m \u001b[0;34m=\u001b[0m \u001b[0mpd\u001b[0m\u001b[0;34m.\u001b[0m\u001b[0mread_json\u001b[0m\u001b[0;34m(\u001b[0m\u001b[0;34m'train_period_data.jsonlist'\u001b[0m\u001b[0;34m,\u001b[0m \u001b[0mlines\u001b[0m\u001b[0;34m=\u001b[0m\u001b[0;32mTrue\u001b[0m\u001b[0;34m)\u001b[0m\u001b[0;34m\u001b[0m\u001b[0;34m\u001b[0m\u001b[0m\n\u001b[1;32m      4\u001b[0m \u001b[0mcombined_df\u001b[0m \u001b[0;34m=\u001b[0m \u001b[0mpd\u001b[0m\u001b[0;34m.\u001b[0m\u001b[0mconcat\u001b[0m\u001b[0;34m(\u001b[0m\u001b[0;34m[\u001b[0m\u001b[0mtest_df\u001b[0m\u001b[0;34m,\u001b[0m \u001b[0mtrain_df\u001b[0m\u001b[0;34m]\u001b[0m\u001b[0;34m)\u001b[0m\u001b[0;34m\u001b[0m\u001b[0;34m\u001b[0m\u001b[0m\n",
            "\u001b[0;32m/usr/local/lib/python3.10/dist-packages/pandas/io/json/_json.py\u001b[0m in \u001b[0;36mread_json\u001b[0;34m(path_or_buf, orient, typ, dtype, convert_axes, convert_dates, keep_default_dates, precise_float, date_unit, encoding, encoding_errors, lines, chunksize, compression, nrows, storage_options, dtype_backend, engine)\u001b[0m\n\u001b[1;32m    813\u001b[0m         \u001b[0;32mreturn\u001b[0m \u001b[0mjson_reader\u001b[0m\u001b[0;34m\u001b[0m\u001b[0;34m\u001b[0m\u001b[0m\n\u001b[1;32m    814\u001b[0m     \u001b[0;32melse\u001b[0m\u001b[0;34m:\u001b[0m\u001b[0;34m\u001b[0m\u001b[0;34m\u001b[0m\u001b[0m\n\u001b[0;32m--> 815\u001b[0;31m         \u001b[0;32mreturn\u001b[0m \u001b[0mjson_reader\u001b[0m\u001b[0;34m.\u001b[0m\u001b[0mread\u001b[0m\u001b[0;34m(\u001b[0m\u001b[0;34m)\u001b[0m\u001b[0;34m\u001b[0m\u001b[0;34m\u001b[0m\u001b[0m\n\u001b[0m\u001b[1;32m    816\u001b[0m \u001b[0;34m\u001b[0m\u001b[0m\n\u001b[1;32m    817\u001b[0m \u001b[0;34m\u001b[0m\u001b[0m\n",
            "\u001b[0;32m/usr/local/lib/python3.10/dist-packages/pandas/io/json/_json.py\u001b[0m in \u001b[0;36mread\u001b[0;34m(self)\u001b[0m\n\u001b[1;32m   1021\u001b[0m                         \u001b[0mdata\u001b[0m \u001b[0;34m=\u001b[0m \u001b[0mensure_str\u001b[0m\u001b[0;34m(\u001b[0m\u001b[0mself\u001b[0m\u001b[0;34m.\u001b[0m\u001b[0mdata\u001b[0m\u001b[0;34m)\u001b[0m\u001b[0;34m\u001b[0m\u001b[0;34m\u001b[0m\u001b[0m\n\u001b[1;32m   1022\u001b[0m                         \u001b[0mdata_lines\u001b[0m \u001b[0;34m=\u001b[0m \u001b[0mdata\u001b[0m\u001b[0;34m.\u001b[0m\u001b[0msplit\u001b[0m\u001b[0;34m(\u001b[0m\u001b[0;34m\"\\n\"\u001b[0m\u001b[0;34m)\u001b[0m\u001b[0;34m\u001b[0m\u001b[0;34m\u001b[0m\u001b[0m\n\u001b[0;32m-> 1023\u001b[0;31m                         \u001b[0mobj\u001b[0m \u001b[0;34m=\u001b[0m \u001b[0mself\u001b[0m\u001b[0;34m.\u001b[0m\u001b[0m_get_object_parser\u001b[0m\u001b[0;34m(\u001b[0m\u001b[0mself\u001b[0m\u001b[0;34m.\u001b[0m\u001b[0m_combine_lines\u001b[0m\u001b[0;34m(\u001b[0m\u001b[0mdata_lines\u001b[0m\u001b[0;34m)\u001b[0m\u001b[0;34m)\u001b[0m\u001b[0;34m\u001b[0m\u001b[0;34m\u001b[0m\u001b[0m\n\u001b[0m\u001b[1;32m   1024\u001b[0m                 \u001b[0;32melse\u001b[0m\u001b[0;34m:\u001b[0m\u001b[0;34m\u001b[0m\u001b[0;34m\u001b[0m\u001b[0m\n\u001b[1;32m   1025\u001b[0m                     \u001b[0mobj\u001b[0m \u001b[0;34m=\u001b[0m \u001b[0mself\u001b[0m\u001b[0;34m.\u001b[0m\u001b[0m_get_object_parser\u001b[0m\u001b[0;34m(\u001b[0m\u001b[0mself\u001b[0m\u001b[0;34m.\u001b[0m\u001b[0mdata\u001b[0m\u001b[0;34m)\u001b[0m\u001b[0;34m\u001b[0m\u001b[0;34m\u001b[0m\u001b[0m\n",
            "\u001b[0;31mKeyboardInterrupt\u001b[0m: "
          ]
        }
      ],
      "source": [
        "# Create Combined DataFrames\n",
        "test_df = pd.read_json('heldout_period_data.jsonlist', lines=True)\n",
        "train_df = pd.read_json('train_period_data.jsonlist', lines=True)\n",
        "combined_df = pd.concat([test_df, train_df])"
      ]
    },
    {
      "cell_type": "code",
      "execution_count": null,
      "metadata": {
        "id": "qcVnlBJV62ez"
      },
      "outputs": [],
      "source": [
        "op_test_df = pd.read_json('heldout_op_data.jsonlist', lines=True)\n",
        "op_train_df = pd.read_json('train_op_data.jsonlist', lines=True)\n",
        "op_combined_df = pd.concat([op_test_df, op_train_df])"
      ]
    },
    {
      "cell_type": "code",
      "execution_count": null,
      "metadata": {
        "id": "2U_GtMLl62ez"
      },
      "outputs": [],
      "source": [
        "# pair_test_df = pd.read_json('heldout_pair_data.jsonlist', lines=True)\n",
        "# pair_train_df = pd.read_json('train_pair_data.jsonlist', lines=True)\n",
        "# pair_combined_df = pd.concat([pair_test_df, pair_train_df])"
      ]
    },
    {
      "cell_type": "code",
      "execution_count": null,
      "metadata": {
        "id": "0Rc7e_3f62ez"
      },
      "outputs": [],
      "source": [
        "op_combined_df.info()"
      ]
    },
    {
      "cell_type": "code",
      "execution_count": null,
      "metadata": {
        "id": "JS6NIpA1gywz"
      },
      "outputs": [],
      "source": [
        "op_combined_df.head()"
      ]
    },
    {
      "cell_type": "code",
      "execution_count": null,
      "metadata": {
        "id": "iUQ4Vml-jR7N"
      },
      "outputs": [],
      "source": [
        "print('Proportion of persuasion')\n",
        "op_combined_df['delta_label'].value_counts(normalize=True)"
      ]
    },
    {
      "cell_type": "code",
      "execution_count": null,
      "metadata": {
        "id": "4u1cLcTNhtoR"
      },
      "outputs": [],
      "source": [
        "sns.countplot(x='delta_label', data=op_combined_df)\n",
        "plt.title('Count of persuasion')\n",
        "plt.show()"
      ]
    },
    {
      "cell_type": "code",
      "execution_count": null,
      "metadata": {
        "id": "lKbHORVnjq06"
      },
      "outputs": [],
      "source": [
        "print('Number of different authors: ', op_combined_df['name'].nunique())"
      ]
    },
    {
      "cell_type": "code",
      "execution_count": null,
      "metadata": {
        "id": "7xWAYOr0nEVd"
      },
      "outputs": [],
      "source": [
        "# Function to calculate average token count with and without stop words for a DataFrame column\n",
        "def calculate_avg_tokens_column(df, column_name):\n",
        "    stop_words = set(stopwords.words('english'))\n",
        "\n",
        "    token_counts_with_stopwords = []\n",
        "    token_counts_without_stopwords = []\n",
        "\n",
        "    for text in df[column_name].dropna():\n",
        "        if isinstance(text, str):  # Ensure the value is a valid string\n",
        "            tokens = word_tokenize(text.lower())  # Tokenize and lowercase the text\n",
        "            tokens_without_stopwords = [token for token in tokens if token not in stop_words]\n",
        "\n",
        "            token_counts_with_stopwords.append(len(tokens))\n",
        "            token_counts_without_stopwords.append(len(tokens_without_stopwords))\n",
        "\n",
        "    # Calculate the averages\n",
        "    avg_with_stopwords = sum(token_counts_with_stopwords) / len(token_counts_with_stopwords)\n",
        "    avg_without_stopwords = sum(token_counts_without_stopwords) / len(token_counts_without_stopwords)\n",
        "\n",
        "    return avg_with_stopwords, avg_without_stopwords\n",
        "\n",
        "# Perform the analysis on the 'op_title' column of the DataFrame\n",
        "avg_with_stopwords_title, avg_without_stopwords_title = calculate_avg_tokens_column(op_combined_df, 'selftext')\n",
        "\n",
        "print(f\"Average token count with stop words in 'selftext': {avg_with_stopwords_title}\")\n",
        "print(f\"Average token count without stop words in 'selftext': {avg_without_stopwords_title}\")"
      ]
    },
    {
      "cell_type": "markdown",
      "metadata": {
        "id": "hdLCHIMzn9Jd"
      },
      "source": [
        "### Analyze Pair data"
      ]
    },
    {
      "cell_type": "markdown",
      "metadata": {
        "id": "ai0iT6zsoClt"
      },
      "source": [
        "- \"positive\" is a list of replies in a rooted path-unit that won a delta from OP, while \"negative\" is a matching rooted path-unit that did not win a delta.\n",
        "\n",
        "- \"op_author\", \"op_text\", and \"op_title\" give information for the original post.\n",
        "\n",
        "- \"op_name\" is an identifier that can be used to find more submission-related information in the corresponding file in all/."
      ]
    },
    {
      "cell_type": "code",
      "execution_count": 10,
      "metadata": {
        "id": "A8CjW8MeoL9V"
      },
      "outputs": [],
      "source": [
        "# Load data set\n",
        "pair_test_df = pd.read_json(f'{root_dir}/pair_task/heldout_pair_data.jsonlist', lines=True)\n",
        "pair_train_df = pd.read_json(f'{root_dir}/pair_task/train_pair_data.jsonlist', lines=True)\n",
        "pair_combined_df = pd.concat([pair_test_df, pair_train_df])"
      ]
    },
    {
      "cell_type": "code",
      "execution_count": null,
      "metadata": {
        "colab": {
          "base_uri": "https://localhost:8080/"
        },
        "id": "coeEMOQfoYaA",
        "outputId": "5ccf951a-f0f6-4a8a-c2a5-e1ae0ca4d3a9"
      },
      "outputs": [
        {
          "name": "stdout",
          "output_type": "stream",
          "text": [
            "<class 'pandas.core.frame.DataFrame'>\n",
            "Index: 4263 entries, 0 to 3455\n",
            "Data columns (total 6 columns):\n",
            " #   Column     Non-Null Count  Dtype \n",
            "---  ------     --------------  ----- \n",
            " 0   op_author  4263 non-null   object\n",
            " 1   op_text    4263 non-null   object\n",
            " 2   op_title   4263 non-null   object\n",
            " 3   positive   4263 non-null   object\n",
            " 4   negative   4263 non-null   object\n",
            " 5   op_name    4263 non-null   object\n",
            "dtypes: object(6)\n",
            "memory usage: 233.1+ KB\n"
          ]
        }
      ],
      "source": [
        "pair_combined_df.info()"
      ]
    },
    {
      "cell_type": "code",
      "execution_count": null,
      "metadata": {
        "colab": {
          "base_uri": "https://localhost:8080/",
          "height": 293
        },
        "id": "SaTV-q1ssiXV",
        "outputId": "c20f12f8-de2f-4a86-bd07-b5272dfd1230"
      },
      "outputs": [
        {
          "data": {
            "application/vnd.google.colaboratory.intrinsic+json": {
              "summary": "{\n  \"name\": \"combined_pair_df\",\n  \"rows\": 4263,\n  \"fields\": [\n    {\n      \"column\": \"op_author\",\n      \"properties\": {\n        \"dtype\": \"string\",\n        \"num_unique_values\": 2619,\n        \"samples\": [\n          \"taimoor2\",\n          \"steelerfaninperu\",\n          \"Logicaliber\"\n        ],\n        \"semantic_type\": \"\",\n        \"description\": \"\"\n      }\n    },\n    {\n      \"column\": \"op_text\",\n      \"properties\": {\n        \"dtype\": \"string\",\n        \"num_unique_values\": 3047,\n        \"samples\": [\n          \"My experience thus far in University has been incredibly disappointing. The majority of my professors are not efficient teachers of their respective subjects. Each year the required books for the courses are updated (rarely have I been able to use the same book twice.. I don't understand how basic math/science can change every year..) and are extremely expensive. I am forced to pay extra (on top of my tuition) to have access to online homework that is required for the course. Every professor seems to have a different system to disseminate information, so I have to keep track of 4-5 different websites just to ensure I don't miss an important announcement or assignment. Many times I feel I am paying thousands of dollars to be told to teach myself. Much of the subject matter is available online, for free.. and it is presented in a MUCH better format (kahn academy, code academy, w3 schools etc...). Such a high priority is placed on grades and exams (above functional knowledge of the material), that I've observed many students taking shortcuts just to keep their GPA up, and not really learning the material in a useful way.\\n\\nThat being said, I do not think that the entire experience is worthless.. I have met some great people, and learned from some good teachers. Unfortunately this experience has been the exception, not the rule.\\n\\nI feel that since a University is the only place you can officially earn a degree, they have a captive audience (one that has been indoctrinated by years of 'Go to college or you'll be a bum' propaganda). I feel they take advantage of this fact in an attempt to extract enormous amounts of money (that place students in crippling dept).\\n\\nCMV\",\n          \"Recent legislation has passed in Wales to require people who do not want their organs to be donated on their death to [opt out of the system](http://news.sky.com/story/1110361/organ-donation-wales-set-to-approve-opt-out) rather than the current system where they have to opt in if they do. I believe that this is a step in the right direction, but that it doesn't go far enough. I believe that all people's organs should be made available for donation, if required and healthy, when they die.\\n\\nI believe this for a few reasons. Firstly, from a purely utilitarian viewpoint, I don't see how we can possibly justify not bringing as much good as possible from someone's death. If someone dies, and someone in the bed next to them requires their liver to be transplanted or they will also die, I don't see how anyone can justify not allowing them to have that liver transplanted into their body. If the shoe were on the other foot, I'm sure they would want that liver.\\n\\nI don't see how a religious objection can be brought to the table, because what religion would want one of their followers to deny life to another human being if it is in their power to do so? If a religion believes that abortion is murder, then it should also believe that refusing an organ donation is murder.\\n\\nI can only see positives to mandatory organ donation. CMV.\\n\\n*Edit: Your replies have me convinced. Thanks. Opt-out organ donation is the way to go. Opt in leaves too few organs, whereas mandatory donation upsets a metric fuckton of people for a huge number of reasons.*\",\n          \"Wikipedia describes the glass ceiling as \\\"the unseen, yet unbreakable barrier that keeps minorities and women from rising to the upper rungs of the corporate ladder, regardless of their qualifications or achievements.\\\" However, this implies that there is a force which restricts women/minorities from reaching top positions even when they are actively aiming to do so. While I believe that men and women are born equally capable, it doesn't seem unreasonable to suspect that social influences and maybe biological differences may shape the type of work they prefer and how they want to live their lives. \"\n        ],\n        \"semantic_type\": \"\",\n        \"description\": \"\"\n      }\n    },\n    {\n      \"column\": \"op_title\",\n      \"properties\": {\n        \"dtype\": \"string\",\n        \"num_unique_values\": 3051,\n        \"samples\": [\n          \"CMV: Genres are good and being very specific with genres is a positive thing.\",\n          \"CMV: I think the Paris shooting makes a good case for culture of responsible gun ownership any carrying.\",\n          \"I believe the recent invasion of /r/AdviceAnimals has ruined this subreddit, resulting in a marked increase in clich\\u00e9d or opinion-based questions and a huge drop in quality. CMV.\"\n        ],\n        \"semantic_type\": \"\",\n        \"description\": \"\"\n      }\n    },\n    {\n      \"column\": \"positive\",\n      \"properties\": {\n        \"dtype\": \"object\",\n        \"semantic_type\": \"\",\n        \"description\": \"\"\n      }\n    },\n    {\n      \"column\": \"negative\",\n      \"properties\": {\n        \"dtype\": \"object\",\n        \"semantic_type\": \"\",\n        \"description\": \"\"\n      }\n    },\n    {\n      \"column\": \"op_name\",\n      \"properties\": {\n        \"dtype\": \"string\",\n        \"num_unique_values\": 3051,\n        \"samples\": [\n          \"t3_3cqwqj\",\n          \"t3_2rnr30\",\n          \"t3_1edr56\"\n        ],\n        \"semantic_type\": \"\",\n        \"description\": \"\"\n      }\n    }\n  ]\n}",
              "type": "dataframe",
              "variable_name": "combined_pair_df"
            },
            "text/html": [
              "\n",
              "  <div id=\"df-7ba807a7-45ff-4e8e-8ffb-694f3541b712\" class=\"colab-df-container\">\n",
              "    <div>\n",
              "<style scoped>\n",
              "    .dataframe tbody tr th:only-of-type {\n",
              "        vertical-align: middle;\n",
              "    }\n",
              "\n",
              "    .dataframe tbody tr th {\n",
              "        vertical-align: top;\n",
              "    }\n",
              "\n",
              "    .dataframe thead th {\n",
              "        text-align: right;\n",
              "    }\n",
              "</style>\n",
              "<table border=\"1\" class=\"dataframe\">\n",
              "  <thead>\n",
              "    <tr style=\"text-align: right;\">\n",
              "      <th></th>\n",
              "      <th>op_author</th>\n",
              "      <th>op_text</th>\n",
              "      <th>op_title</th>\n",
              "      <th>positive</th>\n",
              "      <th>negative</th>\n",
              "      <th>op_name</th>\n",
              "    </tr>\n",
              "  </thead>\n",
              "  <tbody>\n",
              "    <tr>\n",
              "      <th>0</th>\n",
              "      <td>923iwek</td>\n",
              "      <td>I'll start off by saying I'm a vegetarian and ...</td>\n",
              "      <td>CMV: The contribution of vegans/vegetarians an...</td>\n",
              "      <td>{'ancestor': 't1_cundk5r', 'author': 'ghoooooo...</td>\n",
              "      <td>{'ancestor': 't1_cunbl8g', 'author': 'ClimateM...</td>\n",
              "      <td>t3_3j8yfq</td>\n",
              "    </tr>\n",
              "    <tr>\n",
              "      <th>1</th>\n",
              "      <td>923iwek</td>\n",
              "      <td>I'll start off by saying I'm a vegetarian and ...</td>\n",
              "      <td>CMV: The contribution of vegans/vegetarians an...</td>\n",
              "      <td>{'ancestor': 't1_cunbkbz', 'author': 'archagon...</td>\n",
              "      <td>{'ancestor': 't1_cuncrke', 'author': 'Diomange...</td>\n",
              "      <td>t3_3j8yfq</td>\n",
              "    </tr>\n",
              "    <tr>\n",
              "      <th>2</th>\n",
              "      <td>Navyurf</td>\n",
              "      <td>Hello, I'm Luke and for the longest time a sma...</td>\n",
              "      <td>CMV:I want to live in Scandinavia</td>\n",
              "      <td>{'ancestor': 't1_cun0c3t', 'author': 'huadpe',...</td>\n",
              "      <td>{'ancestor': 't1_cun2oqr', 'author': 'iamambie...</td>\n",
              "      <td>t3_3j7dlx</td>\n",
              "    </tr>\n",
              "    <tr>\n",
              "      <th>3</th>\n",
              "      <td>trashlunch</td>\n",
              "      <td>By \"practical reason,\" I mean a reason that mo...</td>\n",
              "      <td>CMV: There is no practical reason for any indi...</td>\n",
              "      <td>{'ancestor': 't1_cumn3j4', 'author': 'ReOsIr10...</td>\n",
              "      <td>{'ancestor': 't1_cumqh8n', 'author': 'Omega037...</td>\n",
              "      <td>t3_3j64aa</td>\n",
              "    </tr>\n",
              "    <tr>\n",
              "      <th>4</th>\n",
              "      <td>VaginalExcrement</td>\n",
              "      <td>\\n_____\\n\\nAlright, so, i was challenged by a ...</td>\n",
              "      <td>CMV: We Should execute the weak to improve the...</td>\n",
              "      <td>{'ancestor': 't1_cumhf65', 'author': 'BadKeyMa...</td>\n",
              "      <td>{'ancestor': 't1_cumi9vr', 'author': 'MCBeatho...</td>\n",
              "      <td>t3_3j5b7g</td>\n",
              "    </tr>\n",
              "  </tbody>\n",
              "</table>\n",
              "</div>\n",
              "    <div class=\"colab-df-buttons\">\n",
              "\n",
              "  <div class=\"colab-df-container\">\n",
              "    <button class=\"colab-df-convert\" onclick=\"convertToInteractive('df-7ba807a7-45ff-4e8e-8ffb-694f3541b712')\"\n",
              "            title=\"Convert this dataframe to an interactive table.\"\n",
              "            style=\"display:none;\">\n",
              "\n",
              "  <svg xmlns=\"http://www.w3.org/2000/svg\" height=\"24px\" viewBox=\"0 -960 960 960\">\n",
              "    <path d=\"M120-120v-720h720v720H120Zm60-500h600v-160H180v160Zm220 220h160v-160H400v160Zm0 220h160v-160H400v160ZM180-400h160v-160H180v160Zm440 0h160v-160H620v160ZM180-180h160v-160H180v160Zm440 0h160v-160H620v160Z\"/>\n",
              "  </svg>\n",
              "    </button>\n",
              "\n",
              "  <style>\n",
              "    .colab-df-container {\n",
              "      display:flex;\n",
              "      gap: 12px;\n",
              "    }\n",
              "\n",
              "    .colab-df-convert {\n",
              "      background-color: #E8F0FE;\n",
              "      border: none;\n",
              "      border-radius: 50%;\n",
              "      cursor: pointer;\n",
              "      display: none;\n",
              "      fill: #1967D2;\n",
              "      height: 32px;\n",
              "      padding: 0 0 0 0;\n",
              "      width: 32px;\n",
              "    }\n",
              "\n",
              "    .colab-df-convert:hover {\n",
              "      background-color: #E2EBFA;\n",
              "      box-shadow: 0px 1px 2px rgba(60, 64, 67, 0.3), 0px 1px 3px 1px rgba(60, 64, 67, 0.15);\n",
              "      fill: #174EA6;\n",
              "    }\n",
              "\n",
              "    .colab-df-buttons div {\n",
              "      margin-bottom: 4px;\n",
              "    }\n",
              "\n",
              "    [theme=dark] .colab-df-convert {\n",
              "      background-color: #3B4455;\n",
              "      fill: #D2E3FC;\n",
              "    }\n",
              "\n",
              "    [theme=dark] .colab-df-convert:hover {\n",
              "      background-color: #434B5C;\n",
              "      box-shadow: 0px 1px 3px 1px rgba(0, 0, 0, 0.15);\n",
              "      filter: drop-shadow(0px 1px 2px rgba(0, 0, 0, 0.3));\n",
              "      fill: #FFFFFF;\n",
              "    }\n",
              "  </style>\n",
              "\n",
              "    <script>\n",
              "      const buttonEl =\n",
              "        document.querySelector('#df-7ba807a7-45ff-4e8e-8ffb-694f3541b712 button.colab-df-convert');\n",
              "      buttonEl.style.display =\n",
              "        google.colab.kernel.accessAllowed ? 'block' : 'none';\n",
              "\n",
              "      async function convertToInteractive(key) {\n",
              "        const element = document.querySelector('#df-7ba807a7-45ff-4e8e-8ffb-694f3541b712');\n",
              "        const dataTable =\n",
              "          await google.colab.kernel.invokeFunction('convertToInteractive',\n",
              "                                                    [key], {});\n",
              "        if (!dataTable) return;\n",
              "\n",
              "        const docLinkHtml = 'Like what you see? Visit the ' +\n",
              "          '<a target=\"_blank\" href=https://colab.research.google.com/notebooks/data_table.ipynb>data table notebook</a>'\n",
              "          + ' to learn more about interactive tables.';\n",
              "        element.innerHTML = '';\n",
              "        dataTable['output_type'] = 'display_data';\n",
              "        await google.colab.output.renderOutput(dataTable, element);\n",
              "        const docLink = document.createElement('div');\n",
              "        docLink.innerHTML = docLinkHtml;\n",
              "        element.appendChild(docLink);\n",
              "      }\n",
              "    </script>\n",
              "  </div>\n",
              "\n",
              "\n",
              "<div id=\"df-accd5392-f0cc-41f3-8a39-8063499ce696\">\n",
              "  <button class=\"colab-df-quickchart\" onclick=\"quickchart('df-accd5392-f0cc-41f3-8a39-8063499ce696')\"\n",
              "            title=\"Suggest charts\"\n",
              "            style=\"display:none;\">\n",
              "\n",
              "<svg xmlns=\"http://www.w3.org/2000/svg\" height=\"24px\"viewBox=\"0 0 24 24\"\n",
              "     width=\"24px\">\n",
              "    <g>\n",
              "        <path d=\"M19 3H5c-1.1 0-2 .9-2 2v14c0 1.1.9 2 2 2h14c1.1 0 2-.9 2-2V5c0-1.1-.9-2-2-2zM9 17H7v-7h2v7zm4 0h-2V7h2v10zm4 0h-2v-4h2v4z\"/>\n",
              "    </g>\n",
              "</svg>\n",
              "  </button>\n",
              "\n",
              "<style>\n",
              "  .colab-df-quickchart {\n",
              "      --bg-color: #E8F0FE;\n",
              "      --fill-color: #1967D2;\n",
              "      --hover-bg-color: #E2EBFA;\n",
              "      --hover-fill-color: #174EA6;\n",
              "      --disabled-fill-color: #AAA;\n",
              "      --disabled-bg-color: #DDD;\n",
              "  }\n",
              "\n",
              "  [theme=dark] .colab-df-quickchart {\n",
              "      --bg-color: #3B4455;\n",
              "      --fill-color: #D2E3FC;\n",
              "      --hover-bg-color: #434B5C;\n",
              "      --hover-fill-color: #FFFFFF;\n",
              "      --disabled-bg-color: #3B4455;\n",
              "      --disabled-fill-color: #666;\n",
              "  }\n",
              "\n",
              "  .colab-df-quickchart {\n",
              "    background-color: var(--bg-color);\n",
              "    border: none;\n",
              "    border-radius: 50%;\n",
              "    cursor: pointer;\n",
              "    display: none;\n",
              "    fill: var(--fill-color);\n",
              "    height: 32px;\n",
              "    padding: 0;\n",
              "    width: 32px;\n",
              "  }\n",
              "\n",
              "  .colab-df-quickchart:hover {\n",
              "    background-color: var(--hover-bg-color);\n",
              "    box-shadow: 0 1px 2px rgba(60, 64, 67, 0.3), 0 1px 3px 1px rgba(60, 64, 67, 0.15);\n",
              "    fill: var(--button-hover-fill-color);\n",
              "  }\n",
              "\n",
              "  .colab-df-quickchart-complete:disabled,\n",
              "  .colab-df-quickchart-complete:disabled:hover {\n",
              "    background-color: var(--disabled-bg-color);\n",
              "    fill: var(--disabled-fill-color);\n",
              "    box-shadow: none;\n",
              "  }\n",
              "\n",
              "  .colab-df-spinner {\n",
              "    border: 2px solid var(--fill-color);\n",
              "    border-color: transparent;\n",
              "    border-bottom-color: var(--fill-color);\n",
              "    animation:\n",
              "      spin 1s steps(1) infinite;\n",
              "  }\n",
              "\n",
              "  @keyframes spin {\n",
              "    0% {\n",
              "      border-color: transparent;\n",
              "      border-bottom-color: var(--fill-color);\n",
              "      border-left-color: var(--fill-color);\n",
              "    }\n",
              "    20% {\n",
              "      border-color: transparent;\n",
              "      border-left-color: var(--fill-color);\n",
              "      border-top-color: var(--fill-color);\n",
              "    }\n",
              "    30% {\n",
              "      border-color: transparent;\n",
              "      border-left-color: var(--fill-color);\n",
              "      border-top-color: var(--fill-color);\n",
              "      border-right-color: var(--fill-color);\n",
              "    }\n",
              "    40% {\n",
              "      border-color: transparent;\n",
              "      border-right-color: var(--fill-color);\n",
              "      border-top-color: var(--fill-color);\n",
              "    }\n",
              "    60% {\n",
              "      border-color: transparent;\n",
              "      border-right-color: var(--fill-color);\n",
              "    }\n",
              "    80% {\n",
              "      border-color: transparent;\n",
              "      border-right-color: var(--fill-color);\n",
              "      border-bottom-color: var(--fill-color);\n",
              "    }\n",
              "    90% {\n",
              "      border-color: transparent;\n",
              "      border-bottom-color: var(--fill-color);\n",
              "    }\n",
              "  }\n",
              "</style>\n",
              "\n",
              "  <script>\n",
              "    async function quickchart(key) {\n",
              "      const quickchartButtonEl =\n",
              "        document.querySelector('#' + key + ' button');\n",
              "      quickchartButtonEl.disabled = true;  // To prevent multiple clicks.\n",
              "      quickchartButtonEl.classList.add('colab-df-spinner');\n",
              "      try {\n",
              "        const charts = await google.colab.kernel.invokeFunction(\n",
              "            'suggestCharts', [key], {});\n",
              "      } catch (error) {\n",
              "        console.error('Error during call to suggestCharts:', error);\n",
              "      }\n",
              "      quickchartButtonEl.classList.remove('colab-df-spinner');\n",
              "      quickchartButtonEl.classList.add('colab-df-quickchart-complete');\n",
              "    }\n",
              "    (() => {\n",
              "      let quickchartButtonEl =\n",
              "        document.querySelector('#df-accd5392-f0cc-41f3-8a39-8063499ce696 button');\n",
              "      quickchartButtonEl.style.display =\n",
              "        google.colab.kernel.accessAllowed ? 'block' : 'none';\n",
              "    })();\n",
              "  </script>\n",
              "</div>\n",
              "\n",
              "    </div>\n",
              "  </div>\n"
            ],
            "text/plain": [
              "          op_author                                            op_text  \\\n",
              "0           923iwek  I'll start off by saying I'm a vegetarian and ...   \n",
              "1           923iwek  I'll start off by saying I'm a vegetarian and ...   \n",
              "2           Navyurf  Hello, I'm Luke and for the longest time a sma...   \n",
              "3        trashlunch  By \"practical reason,\" I mean a reason that mo...   \n",
              "4  VaginalExcrement  \\n_____\\n\\nAlright, so, i was challenged by a ...   \n",
              "\n",
              "                                            op_title  \\\n",
              "0  CMV: The contribution of vegans/vegetarians an...   \n",
              "1  CMV: The contribution of vegans/vegetarians an...   \n",
              "2                  CMV:I want to live in Scandinavia   \n",
              "3  CMV: There is no practical reason for any indi...   \n",
              "4  CMV: We Should execute the weak to improve the...   \n",
              "\n",
              "                                            positive  \\\n",
              "0  {'ancestor': 't1_cundk5r', 'author': 'ghoooooo...   \n",
              "1  {'ancestor': 't1_cunbkbz', 'author': 'archagon...   \n",
              "2  {'ancestor': 't1_cun0c3t', 'author': 'huadpe',...   \n",
              "3  {'ancestor': 't1_cumn3j4', 'author': 'ReOsIr10...   \n",
              "4  {'ancestor': 't1_cumhf65', 'author': 'BadKeyMa...   \n",
              "\n",
              "                                            negative    op_name  \n",
              "0  {'ancestor': 't1_cunbl8g', 'author': 'ClimateM...  t3_3j8yfq  \n",
              "1  {'ancestor': 't1_cuncrke', 'author': 'Diomange...  t3_3j8yfq  \n",
              "2  {'ancestor': 't1_cun2oqr', 'author': 'iamambie...  t3_3j7dlx  \n",
              "3  {'ancestor': 't1_cumqh8n', 'author': 'Omega037...  t3_3j64aa  \n",
              "4  {'ancestor': 't1_cumi9vr', 'author': 'MCBeatho...  t3_3j5b7g  "
            ]
          },
          "execution_count": 7,
          "metadata": {},
          "output_type": "execute_result"
        }
      ],
      "source": [
        "pair_combined_df.head()"
      ]
    },
    {
      "cell_type": "code",
      "execution_count": null,
      "metadata": {
        "colab": {
          "base_uri": "https://localhost:8080/",
          "height": 36
        },
        "id": "sJ3ouiyJtChy",
        "outputId": "d09ef14a-ad2c-4956-b012-f8b9cbb1b111"
      },
      "outputs": [
        {
          "data": {
            "application/vnd.google.colaboratory.intrinsic+json": {
              "type": "string"
            },
            "text/plain": [
              "'cun0c3t'"
            ]
          },
          "execution_count": 30,
          "metadata": {},
          "output_type": "execute_result"
        }
      ],
      "source": [
        "pair_combined_df.iloc[2]['positive']['comments'][0]['id']"
      ]
    },
    {
      "cell_type": "markdown",
      "metadata": {
        "id": "vzbKF4mMuBfI"
      },
      "source": [
        "Fields are identical for negative and positive, Interesting fields for each comment are:\n",
        "- Score, up, and down metrics reflecting the comment's popularity and reception.\n",
        "- controversiality, A score representing how divisive the comment is.\n",
        "- body, The text content of the comment."
      ]
    },
    {
      "cell_type": "code",
      "execution_count": null,
      "metadata": {
        "colab": {
          "base_uri": "https://localhost:8080/",
          "height": 369
        },
        "id": "rDrk30asuqbr",
        "outputId": "11c4d916-2ebb-4afe-ebd3-2a33fef927f7"
      },
      "outputs": [
        {
          "name": "stdout",
          "output_type": "stream",
          "text": [
            "Number of different OP authors:  2619\n",
            "Number of original post per author: \n"
          ]
        },
        {
          "data": {
            "text/html": [
              "<div>\n",
              "<style scoped>\n",
              "    .dataframe tbody tr th:only-of-type {\n",
              "        vertical-align: middle;\n",
              "    }\n",
              "\n",
              "    .dataframe tbody tr th {\n",
              "        vertical-align: top;\n",
              "    }\n",
              "\n",
              "    .dataframe thead th {\n",
              "        text-align: right;\n",
              "    }\n",
              "</style>\n",
              "<table border=\"1\" class=\"dataframe\">\n",
              "  <thead>\n",
              "    <tr style=\"text-align: right;\">\n",
              "      <th></th>\n",
              "      <th>0</th>\n",
              "    </tr>\n",
              "  </thead>\n",
              "  <tbody>\n",
              "    <tr>\n",
              "      <th>count</th>\n",
              "      <td>2619.000000</td>\n",
              "    </tr>\n",
              "    <tr>\n",
              "      <th>mean</th>\n",
              "      <td>1.627721</td>\n",
              "    </tr>\n",
              "    <tr>\n",
              "      <th>std</th>\n",
              "      <td>1.285167</td>\n",
              "    </tr>\n",
              "    <tr>\n",
              "      <th>min</th>\n",
              "      <td>1.000000</td>\n",
              "    </tr>\n",
              "    <tr>\n",
              "      <th>25%</th>\n",
              "      <td>1.000000</td>\n",
              "    </tr>\n",
              "    <tr>\n",
              "      <th>50%</th>\n",
              "      <td>1.000000</td>\n",
              "    </tr>\n",
              "    <tr>\n",
              "      <th>75%</th>\n",
              "      <td>2.000000</td>\n",
              "    </tr>\n",
              "    <tr>\n",
              "      <th>max</th>\n",
              "      <td>19.000000</td>\n",
              "    </tr>\n",
              "  </tbody>\n",
              "</table>\n",
              "</div><br><label><b>dtype:</b> float64</label>"
            ],
            "text/plain": [
              "count    2619.000000\n",
              "mean        1.627721\n",
              "std         1.285167\n",
              "min         1.000000\n",
              "25%         1.000000\n",
              "50%         1.000000\n",
              "75%         2.000000\n",
              "max        19.000000\n",
              "dtype: float64"
            ]
          },
          "execution_count": 53,
          "metadata": {},
          "output_type": "execute_result"
        }
      ],
      "source": [
        "print('Number of different OP authors: ', pair_combined_df['op_author'].nunique())\n",
        "print('Number of original post per author: ')\n",
        "pair_combined_df.groupby('op_author').size().describe()"
      ]
    },
    {
      "cell_type": "code",
      "execution_count": null,
      "metadata": {
        "colab": {
          "base_uri": "https://localhost:8080/"
        },
        "id": "RpxpOujhxKv6",
        "outputId": "864edb73-5379-4af2-84e0-d4f853a74ed5"
      },
      "outputs": [
        {
          "data": {
            "text/plain": [
              "(4263, 6)"
            ]
          },
          "execution_count": 63,
          "metadata": {},
          "output_type": "execute_result"
        }
      ],
      "source": [
        "pair_combined_df.shape"
      ]
    },
    {
      "cell_type": "code",
      "execution_count": null,
      "metadata": {
        "colab": {
          "base_uri": "https://localhost:8080/",
          "height": 300
        },
        "id": "0RhX2pn4xnSl",
        "outputId": "c3ebb2c6-7ef6-4ca8-a6e6-a61b60a89622"
      },
      "outputs": [
        {
          "data": {
            "application/vnd.google.colaboratory.intrinsic+json": {
              "summary": "{\n  \"name\": \"pair_data[['num_of_positive', 'num_of_negative']]\",\n  \"rows\": 8,\n  \"fields\": [\n    {\n      \"column\": \"num_of_positive\",\n      \"properties\": {\n        \"dtype\": \"number\",\n        \"std\": 1506.5841005489676,\n        \"min\": 0.7472483688929722,\n        \"max\": 4263.0,\n        \"num_unique_values\": 6,\n        \"samples\": [\n          4263.0,\n          1.4220032840722496,\n          5.0\n        ],\n        \"semantic_type\": \"\",\n        \"description\": \"\"\n      }\n    },\n    {\n      \"column\": \"num_of_negative\",\n      \"properties\": {\n        \"dtype\": \"number\",\n        \"std\": 1506.6440791456062,\n        \"min\": 0.6908516969253621,\n        \"max\": 4263.0,\n        \"num_unique_values\": 5,\n        \"samples\": [\n          1.2913441238564392,\n          5.0,\n          0.6908516969253621\n        ],\n        \"semantic_type\": \"\",\n        \"description\": \"\"\n      }\n    }\n  ]\n}",
              "type": "dataframe"
            },
            "text/html": [
              "\n",
              "  <div id=\"df-855e2562-29d2-44ac-81fe-15d63ed38782\" class=\"colab-df-container\">\n",
              "    <div>\n",
              "<style scoped>\n",
              "    .dataframe tbody tr th:only-of-type {\n",
              "        vertical-align: middle;\n",
              "    }\n",
              "\n",
              "    .dataframe tbody tr th {\n",
              "        vertical-align: top;\n",
              "    }\n",
              "\n",
              "    .dataframe thead th {\n",
              "        text-align: right;\n",
              "    }\n",
              "</style>\n",
              "<table border=\"1\" class=\"dataframe\">\n",
              "  <thead>\n",
              "    <tr style=\"text-align: right;\">\n",
              "      <th></th>\n",
              "      <th>num_of_positive</th>\n",
              "      <th>num_of_negative</th>\n",
              "    </tr>\n",
              "  </thead>\n",
              "  <tbody>\n",
              "    <tr>\n",
              "      <th>count</th>\n",
              "      <td>4263.000000</td>\n",
              "      <td>4263.000000</td>\n",
              "    </tr>\n",
              "    <tr>\n",
              "      <th>mean</th>\n",
              "      <td>1.422003</td>\n",
              "      <td>1.291344</td>\n",
              "    </tr>\n",
              "    <tr>\n",
              "      <th>std</th>\n",
              "      <td>0.747248</td>\n",
              "      <td>0.690852</td>\n",
              "    </tr>\n",
              "    <tr>\n",
              "      <th>min</th>\n",
              "      <td>1.000000</td>\n",
              "      <td>1.000000</td>\n",
              "    </tr>\n",
              "    <tr>\n",
              "      <th>25%</th>\n",
              "      <td>1.000000</td>\n",
              "      <td>1.000000</td>\n",
              "    </tr>\n",
              "    <tr>\n",
              "      <th>50%</th>\n",
              "      <td>1.000000</td>\n",
              "      <td>1.000000</td>\n",
              "    </tr>\n",
              "    <tr>\n",
              "      <th>75%</th>\n",
              "      <td>2.000000</td>\n",
              "      <td>1.000000</td>\n",
              "    </tr>\n",
              "    <tr>\n",
              "      <th>max</th>\n",
              "      <td>5.000000</td>\n",
              "      <td>5.000000</td>\n",
              "    </tr>\n",
              "  </tbody>\n",
              "</table>\n",
              "</div>\n",
              "    <div class=\"colab-df-buttons\">\n",
              "\n",
              "  <div class=\"colab-df-container\">\n",
              "    <button class=\"colab-df-convert\" onclick=\"convertToInteractive('df-855e2562-29d2-44ac-81fe-15d63ed38782')\"\n",
              "            title=\"Convert this dataframe to an interactive table.\"\n",
              "            style=\"display:none;\">\n",
              "\n",
              "  <svg xmlns=\"http://www.w3.org/2000/svg\" height=\"24px\" viewBox=\"0 -960 960 960\">\n",
              "    <path d=\"M120-120v-720h720v720H120Zm60-500h600v-160H180v160Zm220 220h160v-160H400v160Zm0 220h160v-160H400v160ZM180-400h160v-160H180v160Zm440 0h160v-160H620v160ZM180-180h160v-160H180v160Zm440 0h160v-160H620v160Z\"/>\n",
              "  </svg>\n",
              "    </button>\n",
              "\n",
              "  <style>\n",
              "    .colab-df-container {\n",
              "      display:flex;\n",
              "      gap: 12px;\n",
              "    }\n",
              "\n",
              "    .colab-df-convert {\n",
              "      background-color: #E8F0FE;\n",
              "      border: none;\n",
              "      border-radius: 50%;\n",
              "      cursor: pointer;\n",
              "      display: none;\n",
              "      fill: #1967D2;\n",
              "      height: 32px;\n",
              "      padding: 0 0 0 0;\n",
              "      width: 32px;\n",
              "    }\n",
              "\n",
              "    .colab-df-convert:hover {\n",
              "      background-color: #E2EBFA;\n",
              "      box-shadow: 0px 1px 2px rgba(60, 64, 67, 0.3), 0px 1px 3px 1px rgba(60, 64, 67, 0.15);\n",
              "      fill: #174EA6;\n",
              "    }\n",
              "\n",
              "    .colab-df-buttons div {\n",
              "      margin-bottom: 4px;\n",
              "    }\n",
              "\n",
              "    [theme=dark] .colab-df-convert {\n",
              "      background-color: #3B4455;\n",
              "      fill: #D2E3FC;\n",
              "    }\n",
              "\n",
              "    [theme=dark] .colab-df-convert:hover {\n",
              "      background-color: #434B5C;\n",
              "      box-shadow: 0px 1px 3px 1px rgba(0, 0, 0, 0.15);\n",
              "      filter: drop-shadow(0px 1px 2px rgba(0, 0, 0, 0.3));\n",
              "      fill: #FFFFFF;\n",
              "    }\n",
              "  </style>\n",
              "\n",
              "    <script>\n",
              "      const buttonEl =\n",
              "        document.querySelector('#df-855e2562-29d2-44ac-81fe-15d63ed38782 button.colab-df-convert');\n",
              "      buttonEl.style.display =\n",
              "        google.colab.kernel.accessAllowed ? 'block' : 'none';\n",
              "\n",
              "      async function convertToInteractive(key) {\n",
              "        const element = document.querySelector('#df-855e2562-29d2-44ac-81fe-15d63ed38782');\n",
              "        const dataTable =\n",
              "          await google.colab.kernel.invokeFunction('convertToInteractive',\n",
              "                                                    [key], {});\n",
              "        if (!dataTable) return;\n",
              "\n",
              "        const docLinkHtml = 'Like what you see? Visit the ' +\n",
              "          '<a target=\"_blank\" href=https://colab.research.google.com/notebooks/data_table.ipynb>data table notebook</a>'\n",
              "          + ' to learn more about interactive tables.';\n",
              "        element.innerHTML = '';\n",
              "        dataTable['output_type'] = 'display_data';\n",
              "        await google.colab.output.renderOutput(dataTable, element);\n",
              "        const docLink = document.createElement('div');\n",
              "        docLink.innerHTML = docLinkHtml;\n",
              "        element.appendChild(docLink);\n",
              "      }\n",
              "    </script>\n",
              "  </div>\n",
              "\n",
              "\n",
              "<div id=\"df-f3226f6b-d9e8-47a1-8ba3-d58be1f2e2a1\">\n",
              "  <button class=\"colab-df-quickchart\" onclick=\"quickchart('df-f3226f6b-d9e8-47a1-8ba3-d58be1f2e2a1')\"\n",
              "            title=\"Suggest charts\"\n",
              "            style=\"display:none;\">\n",
              "\n",
              "<svg xmlns=\"http://www.w3.org/2000/svg\" height=\"24px\"viewBox=\"0 0 24 24\"\n",
              "     width=\"24px\">\n",
              "    <g>\n",
              "        <path d=\"M19 3H5c-1.1 0-2 .9-2 2v14c0 1.1.9 2 2 2h14c1.1 0 2-.9 2-2V5c0-1.1-.9-2-2-2zM9 17H7v-7h2v7zm4 0h-2V7h2v10zm4 0h-2v-4h2v4z\"/>\n",
              "    </g>\n",
              "</svg>\n",
              "  </button>\n",
              "\n",
              "<style>\n",
              "  .colab-df-quickchart {\n",
              "      --bg-color: #E8F0FE;\n",
              "      --fill-color: #1967D2;\n",
              "      --hover-bg-color: #E2EBFA;\n",
              "      --hover-fill-color: #174EA6;\n",
              "      --disabled-fill-color: #AAA;\n",
              "      --disabled-bg-color: #DDD;\n",
              "  }\n",
              "\n",
              "  [theme=dark] .colab-df-quickchart {\n",
              "      --bg-color: #3B4455;\n",
              "      --fill-color: #D2E3FC;\n",
              "      --hover-bg-color: #434B5C;\n",
              "      --hover-fill-color: #FFFFFF;\n",
              "      --disabled-bg-color: #3B4455;\n",
              "      --disabled-fill-color: #666;\n",
              "  }\n",
              "\n",
              "  .colab-df-quickchart {\n",
              "    background-color: var(--bg-color);\n",
              "    border: none;\n",
              "    border-radius: 50%;\n",
              "    cursor: pointer;\n",
              "    display: none;\n",
              "    fill: var(--fill-color);\n",
              "    height: 32px;\n",
              "    padding: 0;\n",
              "    width: 32px;\n",
              "  }\n",
              "\n",
              "  .colab-df-quickchart:hover {\n",
              "    background-color: var(--hover-bg-color);\n",
              "    box-shadow: 0 1px 2px rgba(60, 64, 67, 0.3), 0 1px 3px 1px rgba(60, 64, 67, 0.15);\n",
              "    fill: var(--button-hover-fill-color);\n",
              "  }\n",
              "\n",
              "  .colab-df-quickchart-complete:disabled,\n",
              "  .colab-df-quickchart-complete:disabled:hover {\n",
              "    background-color: var(--disabled-bg-color);\n",
              "    fill: var(--disabled-fill-color);\n",
              "    box-shadow: none;\n",
              "  }\n",
              "\n",
              "  .colab-df-spinner {\n",
              "    border: 2px solid var(--fill-color);\n",
              "    border-color: transparent;\n",
              "    border-bottom-color: var(--fill-color);\n",
              "    animation:\n",
              "      spin 1s steps(1) infinite;\n",
              "  }\n",
              "\n",
              "  @keyframes spin {\n",
              "    0% {\n",
              "      border-color: transparent;\n",
              "      border-bottom-color: var(--fill-color);\n",
              "      border-left-color: var(--fill-color);\n",
              "    }\n",
              "    20% {\n",
              "      border-color: transparent;\n",
              "      border-left-color: var(--fill-color);\n",
              "      border-top-color: var(--fill-color);\n",
              "    }\n",
              "    30% {\n",
              "      border-color: transparent;\n",
              "      border-left-color: var(--fill-color);\n",
              "      border-top-color: var(--fill-color);\n",
              "      border-right-color: var(--fill-color);\n",
              "    }\n",
              "    40% {\n",
              "      border-color: transparent;\n",
              "      border-right-color: var(--fill-color);\n",
              "      border-top-color: var(--fill-color);\n",
              "    }\n",
              "    60% {\n",
              "      border-color: transparent;\n",
              "      border-right-color: var(--fill-color);\n",
              "    }\n",
              "    80% {\n",
              "      border-color: transparent;\n",
              "      border-right-color: var(--fill-color);\n",
              "      border-bottom-color: var(--fill-color);\n",
              "    }\n",
              "    90% {\n",
              "      border-color: transparent;\n",
              "      border-bottom-color: var(--fill-color);\n",
              "    }\n",
              "  }\n",
              "</style>\n",
              "\n",
              "  <script>\n",
              "    async function quickchart(key) {\n",
              "      const quickchartButtonEl =\n",
              "        document.querySelector('#' + key + ' button');\n",
              "      quickchartButtonEl.disabled = true;  // To prevent multiple clicks.\n",
              "      quickchartButtonEl.classList.add('colab-df-spinner');\n",
              "      try {\n",
              "        const charts = await google.colab.kernel.invokeFunction(\n",
              "            'suggestCharts', [key], {});\n",
              "      } catch (error) {\n",
              "        console.error('Error during call to suggestCharts:', error);\n",
              "      }\n",
              "      quickchartButtonEl.classList.remove('colab-df-spinner');\n",
              "      quickchartButtonEl.classList.add('colab-df-quickchart-complete');\n",
              "    }\n",
              "    (() => {\n",
              "      let quickchartButtonEl =\n",
              "        document.querySelector('#df-f3226f6b-d9e8-47a1-8ba3-d58be1f2e2a1 button');\n",
              "      quickchartButtonEl.style.display =\n",
              "        google.colab.kernel.accessAllowed ? 'block' : 'none';\n",
              "    })();\n",
              "  </script>\n",
              "</div>\n",
              "\n",
              "    </div>\n",
              "  </div>\n"
            ],
            "text/plain": [
              "       num_of_positive  num_of_negative\n",
              "count      4263.000000      4263.000000\n",
              "mean          1.422003         1.291344\n",
              "std           0.747248         0.690852\n",
              "min           1.000000         1.000000\n",
              "25%           1.000000         1.000000\n",
              "50%           1.000000         1.000000\n",
              "75%           2.000000         1.000000\n",
              "max           5.000000         5.000000"
            ]
          },
          "execution_count": 72,
          "metadata": {},
          "output_type": "execute_result"
        }
      ],
      "source": [
        "\n",
        "# Function to add new fields for the number of positive and negative comments\n",
        "def add_comment_counts_json(df, positive_col, negative_col):\n",
        "    num_positive = []\n",
        "    num_negative = []\n",
        "\n",
        "    for _, row in df.iterrows():\n",
        "        try:\n",
        "            # Access the 'comments' key directly from the dictionary\n",
        "            positive_data = row[positive_col]\n",
        "            negative_data = row[negative_col]\n",
        "\n",
        "            # Count the number of comments\n",
        "            num_positive.append(len(positive_data.get('comments', [])))\n",
        "            num_negative.append(len(negative_data.get('comments', [])))\n",
        "        except (json.JSONDecodeError, KeyError, TypeError):\n",
        "            # Handle parsing errors or missing fields\n",
        "            num_positive.append(0)\n",
        "            num_negative.append(0)\n",
        "\n",
        "    # Add the new columns to the DataFrame\n",
        "    df['num_of_positive'] = num_positive\n",
        "    df['num_of_negative'] = num_negative\n",
        "    return df\n",
        "\n",
        "# Add the new fields to the dataset\n",
        "pair_data = add_comment_counts_json(pair_combined_df, 'positive', 'negative')\n",
        "\n",
        "pair_data[['num_of_positive', 'num_of_negative']].describe()"
      ]
    },
    {
      "cell_type": "code",
      "execution_count": null,
      "metadata": {
        "colab": {
          "base_uri": "https://localhost:8080/",
          "height": 564
        },
        "id": "47ujwlp3xQYw",
        "outputId": "bcc8ef58-bf6b-4d62-d2bd-213a9e29c7a5"
      },
      "outputs": [
        {
          "data": {
            "image/png": "[encoded data removed]",
            "text/plain": [
              "<Figure size 1200x600 with 1 Axes>"
            ]
          },
          "metadata": {},
          "output_type": "display_data"
        }
      ],
      "source": [
        "# Plot the distribution of positive and negative comments\n",
        "plt.figure(figsize=(12, 6))\n",
        "\n",
        "# Distribution for positive comments\n",
        "plt.hist(pair_data['num_of_positive'], bins=30, alpha=0.7, label='Positive Comments', color='green')\n",
        "\n",
        "# Distribution for negative comments\n",
        "plt.hist(pair_data['num_of_negative'], bins=30, alpha=0.7, label='Negative Comments', color='red')\n",
        "\n",
        "# Add labels and title\n",
        "plt.xlabel('Number of Comments')\n",
        "plt.ylabel('Frequency')\n",
        "plt.title('Distribution of Positive and Negative Comments')\n",
        "plt.legend()\n",
        "plt.show()"
      ]
    },
    {
      "cell_type": "code",
      "execution_count": null,
      "metadata": {
        "colab": {
          "base_uri": "https://localhost:8080/",
          "height": 53
        },
        "id": "PNkN5-RL3ijB",
        "outputId": "36e914a3-7a6b-4de1-eb76-f8e6f8d0de4b"
      },
      "outputs": [
        {
          "name": "stdout",
          "output_type": "stream",
          "text": [
            "Example of discussion with title\n"
          ]
        },
        {
          "data": {
            "application/vnd.google.colaboratory.intrinsic+json": {
              "type": "string"
            },
            "text/plain": [
              "'CMV: The contribution of vegans/vegetarians and other environmentally conscious people is absolutely insignificant.'"
            ]
          },
          "execution_count": 15,
          "metadata": {},
          "output_type": "execute_result"
        }
      ],
      "source": [
        "print('Example of discussion with title')\n",
        "pair_combined_df.iloc[0]['op_title']"
      ]
    },
    {
      "cell_type": "code",
      "execution_count": null,
      "metadata": {
        "colab": {
          "base_uri": "https://localhost:8080/",
          "height": 157
        },
        "id": "kNLZOd0N2pnS",
        "outputId": "f1df2f19-545c-44b7-e558-abdffbe0ab50"
      },
      "outputs": [
        {
          "name": "stdout",
          "output_type": "stream",
          "text": [
            "Positive Example:\n"
          ]
        },
        {
          "data": {
            "application/vnd.google.colaboratory.intrinsic+json": {
              "type": "string"
            },
            "text/plain": [
              "'In short, the reality is: It adds up.\\n\\n[Does Veganism Make a Difference?](http://www.animalliberationfront.com/Philosophy/Utilitarianism/Does%20Veganism%20Make%20a%20Difference.htm)\\n\\n[Expected Utility, Contributory Causation, and Vegetarianism](http://www.veganoutreach.org/enewsletter/thresholds.pdf)\\n\\nBoth of these essays approach your question in a statistics-based manner that focuses on thresholds. They propose that your effect on meat production is a measurable probability.\\n\\nIn other words, they ask questions like, \"What are the odds that your purchase of, say, a frozen turkey will be the one that causes your grocery store to order another entire shipment of frozen turkeys? And that that shipment causes the food distributor to order more turkeys? And that that shipment causes a farm to slaughter more turkeys?\" \\n\\nThe number of animals produced and slaughtered is so high that the very small probability of you sparing an animal from it still translates to 50-100 animals per year. And in my opinion, that\\'s significant.\\n\\nThink of it this way: If the odds of you saving one animal are the same as the odds of you winning the lottery (say, one in 200 million), being a vegetarian is like entering that lottery a billion times.'"
            ]
          },
          "execution_count": 13,
          "metadata": {},
          "output_type": "execute_result"
        }
      ],
      "source": [
        "print('Positive Example:')\n",
        "pair_combined_df.iloc[0]['positive']['comments'][0]['body']"
      ]
    },
    {
      "cell_type": "code",
      "execution_count": null,
      "metadata": {
        "colab": {
          "base_uri": "https://localhost:8080/",
          "height": 261
        },
        "id": "9izkGeXs2-i4",
        "outputId": "9a301f44-38f6-47aa-8c67-c65d8d328977"
      },
      "outputs": [
        {
          "name": "stdout",
          "output_type": "stream",
          "text": [
            "Negative Example:\n"
          ]
        },
        {
          "data": {
            "application/vnd.google.colaboratory.intrinsic+json": {
              "type": "string"
            },
            "text/plain": [
              "\"I agree with /u/huadpe that simply the act of being vegetarian/vegan makes it easier for other people to reduce their meat consumption, because as the population of vegetarians and vegans expands, restaurants are offering more and better vegetarian/vegan options, including some that are so tasty only the most rabid carnivores would turn their nose up at them. The growing number of people with vegetarian/vegan friends and family members also means that more people are being exposed to delicious vegetarian/vegan food and even learning how to cook it, all of which chips away at the all-too-common notion that any meal without meat isn't worth eating.\\n\\nHelping society at large reduce its meat consumption is really important because meat production has such an enormous environmental impact, especially with regard to climate change. The exact contribution of animal agriculture to climate change is disputed, but the most widely accepted statistics seem to put animal agriculture at about 15-25% of total anthropogenic greenhouse gas emissions, with some estimates reaching as high as nearly 50%. While it certainly is possible to raise meat in a sustainable and environmentally healthy way, in practice 78% of beef, 95% of pork, and 99% of chicken is raised in factory farms, so getting people to eat less meat overall is very important. Even a 10% reduction in overall meat consumption could make a significant difference. According to the Earth Day Network, if everybody in the U.S. did not eat meat or cheese for just one day a week, it would be the equivalent of not driving 91 billion miles. (I'm not sure how that figure was calculated, but if it's even close to correct, it demonstrates the kind of difference skipping meat just three meals a week could make.)\""
            ]
          },
          "execution_count": 16,
          "metadata": {},
          "output_type": "execute_result"
        }
      ],
      "source": [
        "print('Negative Example:')\n",
        "pair_combined_df.iloc[0]['negative']['comments'][0]['body']"
      ]
    },
    {
      "cell_type": "markdown",
      "metadata": {
        "id": "LN4a2VcPygoO",
        "jp-MarkdownHeadingCollapsed": true
      },
      "source": [
        "### Analyze period data (all data raw from reddit API)"
      ]
    },
    {
      "cell_type": "code",
      "execution_count": null,
      "metadata": {
        "colab": {
          "base_uri": "https://localhost:8080/",
          "height": 602
        },
        "id": "EmYS0tSgyxjI",
        "outputId": "43c3c850-51d5-4b2f-f571-091d2b27a906"
      },
      "outputs": [
        {
          "data": {
            "text/html": [
              "<div>\n",
              "<style scoped>\n",
              "    .dataframe tbody tr th:only-of-type {\n",
              "        vertical-align: middle;\n",
              "    }\n",
              "\n",
              "    .dataframe tbody tr th {\n",
              "        vertical-align: top;\n",
              "    }\n",
              "\n",
              "    .dataframe thead th {\n",
              "        text-align: right;\n",
              "    }\n",
              "</style>\n",
              "<table border=\"1\" class=\"dataframe\">\n",
              "  <thead>\n",
              "    <tr style=\"text-align: right;\">\n",
              "      <th></th>\n",
              "      <th>domain</th>\n",
              "      <th>banned_by</th>\n",
              "      <th>media_embed</th>\n",
              "      <th>subreddit</th>\n",
              "      <th>selftext_html</th>\n",
              "      <th>selftext</th>\n",
              "      <th>likes</th>\n",
              "      <th>suggested_sort</th>\n",
              "      <th>user_reports</th>\n",
              "      <th>secure_media</th>\n",
              "      <th>...</th>\n",
              "      <th>url</th>\n",
              "      <th>author_flair_text</th>\n",
              "      <th>quarantine</th>\n",
              "      <th>title</th>\n",
              "      <th>created_utc</th>\n",
              "      <th>distinguished</th>\n",
              "      <th>mod_reports</th>\n",
              "      <th>visited</th>\n",
              "      <th>num_reports</th>\n",
              "      <th>ups</th>\n",
              "    </tr>\n",
              "  </thead>\n",
              "  <tbody>\n",
              "    <tr>\n",
              "      <th>0</th>\n",
              "      <td>self.changemyview</td>\n",
              "      <td>NaN</td>\n",
              "      <td>{}</td>\n",
              "      <td>changemyview</td>\n",
              "      <td>&amp;lt;!-- SC_OFF --&amp;gt;&amp;lt;div class=\"md\"&amp;gt;&amp;lt...</td>\n",
              "      <td>From what I understand, the only significant d...</td>\n",
              "      <td>NaN</td>\n",
              "      <td>NaN</td>\n",
              "      <td>[]</td>\n",
              "      <td>NaN</td>\n",
              "      <td>...</td>\n",
              "      <td>http://www.reddit.com/r/changemyview/comments/...</td>\n",
              "      <td>1∆</td>\n",
              "      <td>False</td>\n",
              "      <td>CMV: The position of Vice President of the Uni...</td>\n",
              "      <td>1441131871</td>\n",
              "      <td>None</td>\n",
              "      <td>[]</td>\n",
              "      <td>False</td>\n",
              "      <td>NaN</td>\n",
              "      <td>0</td>\n",
              "    </tr>\n",
              "    <tr>\n",
              "      <th>1</th>\n",
              "      <td>self.changemyview</td>\n",
              "      <td>NaN</td>\n",
              "      <td>{}</td>\n",
              "      <td>changemyview</td>\n",
              "      <td>&amp;lt;!-- SC_OFF --&amp;gt;&amp;lt;div class=\"md\"&amp;gt;&amp;lt...</td>\n",
              "      <td>I'll start off by saying I'm a vegetarian and ...</td>\n",
              "      <td>NaN</td>\n",
              "      <td>NaN</td>\n",
              "      <td>[]</td>\n",
              "      <td>NaN</td>\n",
              "      <td>...</td>\n",
              "      <td>http://www.reddit.com/r/changemyview/comments/...</td>\n",
              "      <td>None</td>\n",
              "      <td>False</td>\n",
              "      <td>CMV: The contribution of vegans/vegetarians an...</td>\n",
              "      <td>1441130982</td>\n",
              "      <td>None</td>\n",
              "      <td>[]</td>\n",
              "      <td>False</td>\n",
              "      <td>NaN</td>\n",
              "      <td>326</td>\n",
              "    </tr>\n",
              "    <tr>\n",
              "      <th>2</th>\n",
              "      <td>self.changemyview</td>\n",
              "      <td>NaN</td>\n",
              "      <td>{}</td>\n",
              "      <td>changemyview</td>\n",
              "      <td>&amp;lt;!-- SC_OFF --&amp;gt;&amp;lt;div class=\"md\"&amp;gt;&amp;lt...</td>\n",
              "      <td>Al Franken went on Jon Stewart [a few weeks ag...</td>\n",
              "      <td>NaN</td>\n",
              "      <td>NaN</td>\n",
              "      <td>[]</td>\n",
              "      <td>NaN</td>\n",
              "      <td>...</td>\n",
              "      <td>http://www.reddit.com/r/changemyview/comments/...</td>\n",
              "      <td>None</td>\n",
              "      <td>False</td>\n",
              "      <td>CMV: Anti-discrimination law is discriminatory.</td>\n",
              "      <td>1441126567</td>\n",
              "      <td>None</td>\n",
              "      <td>[]</td>\n",
              "      <td>False</td>\n",
              "      <td>NaN</td>\n",
              "      <td>23</td>\n",
              "    </tr>\n",
              "    <tr>\n",
              "      <th>3</th>\n",
              "      <td>self.changemyview</td>\n",
              "      <td>NaN</td>\n",
              "      <td>{}</td>\n",
              "      <td>changemyview</td>\n",
              "      <td>&amp;lt;!-- SC_OFF --&amp;gt;&amp;lt;div class=\"md\"&amp;gt;&amp;lt...</td>\n",
              "      <td>I'll be honest with you, I didn't even know ab...</td>\n",
              "      <td>NaN</td>\n",
              "      <td>NaN</td>\n",
              "      <td>[]</td>\n",
              "      <td>NaN</td>\n",
              "      <td>...</td>\n",
              "      <td>http://www.reddit.com/r/changemyview/comments/...</td>\n",
              "      <td>None</td>\n",
              "      <td>False</td>\n",
              "      <td>CMV: Nicki Minaj is in the wrong, not Miley.</td>\n",
              "      <td>1441121901</td>\n",
              "      <td>None</td>\n",
              "      <td>[]</td>\n",
              "      <td>False</td>\n",
              "      <td>NaN</td>\n",
              "      <td>0</td>\n",
              "    </tr>\n",
              "    <tr>\n",
              "      <th>4</th>\n",
              "      <td>self.changemyview</td>\n",
              "      <td>NaN</td>\n",
              "      <td>{}</td>\n",
              "      <td>changemyview</td>\n",
              "      <td>&amp;lt;!-- SC_OFF --&amp;gt;&amp;lt;div class=\"md\"&amp;gt;&amp;lt...</td>\n",
              "      <td>(Note: While this post is written from the poi...</td>\n",
              "      <td>NaN</td>\n",
              "      <td>NaN</td>\n",
              "      <td>[]</td>\n",
              "      <td>NaN</td>\n",
              "      <td>...</td>\n",
              "      <td>http://www.reddit.com/r/changemyview/comments/...</td>\n",
              "      <td>None</td>\n",
              "      <td>False</td>\n",
              "      <td>CMV: On online dating, if you don't want to ta...</td>\n",
              "      <td>1441120965</td>\n",
              "      <td>None</td>\n",
              "      <td>[]</td>\n",
              "      <td>False</td>\n",
              "      <td>NaN</td>\n",
              "      <td>0</td>\n",
              "    </tr>\n",
              "  </tbody>\n",
              "</table>\n",
              "<p>5 rows × 52 columns</p>\n",
              "</div>"
            ],
            "text/plain": [
              "              domain  banned_by media_embed     subreddit  \\\n",
              "0  self.changemyview        NaN          {}  changemyview   \n",
              "1  self.changemyview        NaN          {}  changemyview   \n",
              "2  self.changemyview        NaN          {}  changemyview   \n",
              "3  self.changemyview        NaN          {}  changemyview   \n",
              "4  self.changemyview        NaN          {}  changemyview   \n",
              "\n",
              "                                       selftext_html  \\\n",
              "0  &lt;!-- SC_OFF --&gt;&lt;div class=\"md\"&gt;&lt...   \n",
              "1  &lt;!-- SC_OFF --&gt;&lt;div class=\"md\"&gt;&lt...   \n",
              "2  &lt;!-- SC_OFF --&gt;&lt;div class=\"md\"&gt;&lt...   \n",
              "3  &lt;!-- SC_OFF --&gt;&lt;div class=\"md\"&gt;&lt...   \n",
              "4  &lt;!-- SC_OFF --&gt;&lt;div class=\"md\"&gt;&lt...   \n",
              "\n",
              "                                            selftext  likes  suggested_sort  \\\n",
              "0  From what I understand, the only significant d...    NaN             NaN   \n",
              "1  I'll start off by saying I'm a vegetarian and ...    NaN             NaN   \n",
              "2  Al Franken went on Jon Stewart [a few weeks ag...    NaN             NaN   \n",
              "3  I'll be honest with you, I didn't even know ab...    NaN             NaN   \n",
              "4  (Note: While this post is written from the poi...    NaN             NaN   \n",
              "\n",
              "  user_reports  secure_media  ...  \\\n",
              "0           []           NaN  ...   \n",
              "1           []           NaN  ...   \n",
              "2           []           NaN  ...   \n",
              "3           []           NaN  ...   \n",
              "4           []           NaN  ...   \n",
              "\n",
              "                                                 url author_flair_text  \\\n",
              "0  http://www.reddit.com/r/changemyview/comments/...                1∆   \n",
              "1  http://www.reddit.com/r/changemyview/comments/...              None   \n",
              "2  http://www.reddit.com/r/changemyview/comments/...              None   \n",
              "3  http://www.reddit.com/r/changemyview/comments/...              None   \n",
              "4  http://www.reddit.com/r/changemyview/comments/...              None   \n",
              "\n",
              "   quarantine                                              title  created_utc  \\\n",
              "0       False  CMV: The position of Vice President of the Uni...   1441131871   \n",
              "1       False  CMV: The contribution of vegans/vegetarians an...   1441130982   \n",
              "2       False    CMV: Anti-discrimination law is discriminatory.   1441126567   \n",
              "3       False       CMV: Nicki Minaj is in the wrong, not Miley.   1441121901   \n",
              "4       False  CMV: On online dating, if you don't want to ta...   1441120965   \n",
              "\n",
              "   distinguished  mod_reports visited  num_reports  ups  \n",
              "0           None           []   False          NaN    0  \n",
              "1           None           []   False          NaN  326  \n",
              "2           None           []   False          NaN   23  \n",
              "3           None           []   False          NaN    0  \n",
              "4           None           []   False          NaN    0  \n",
              "\n",
              "[5 rows x 52 columns]"
            ]
          },
          "execution_count": 20,
          "metadata": {},
          "output_type": "execute_result"
        }
      ],
      "source": [
        "test_df.head()"
      ]
    },
    {
      "cell_type": "code",
      "execution_count": null,
      "metadata": {
        "colab": {
          "base_uri": "https://localhost:8080/",
          "height": 206
        },
        "id": "CtM7K4d94oPd",
        "outputId": "cb99ce73-e3ae-47a9-878e-a29273744f4d"
      },
      "outputs": [
        {
          "data": {
            "text/html": [
              "<div>\n",
              "<style scoped>\n",
              "    .dataframe tbody tr th:only-of-type {\n",
              "        vertical-align: middle;\n",
              "    }\n",
              "\n",
              "    .dataframe tbody tr th {\n",
              "        vertical-align: top;\n",
              "    }\n",
              "\n",
              "    .dataframe thead th {\n",
              "        text-align: right;\n",
              "    }\n",
              "</style>\n",
              "<table border=\"1\" class=\"dataframe\">\n",
              "  <thead>\n",
              "    <tr style=\"text-align: right;\">\n",
              "      <th></th>\n",
              "      <th>id</th>\n",
              "      <th>comments</th>\n",
              "      <th>author_flair_text</th>\n",
              "    </tr>\n",
              "  </thead>\n",
              "  <tbody>\n",
              "    <tr>\n",
              "      <th>0</th>\n",
              "      <td>3j90qv</td>\n",
              "      <td>[{'subreddit_id': 't5_2w2s8', 'banned_by': Non...</td>\n",
              "      <td>1∆</td>\n",
              "    </tr>\n",
              "    <tr>\n",
              "      <th>1</th>\n",
              "      <td>3j8yfq</td>\n",
              "      <td>[{'subreddit_id': 't5_2w2s8', 'banned_by': Non...</td>\n",
              "      <td>None</td>\n",
              "    </tr>\n",
              "    <tr>\n",
              "      <th>2</th>\n",
              "      <td>3j8n34</td>\n",
              "      <td>[{'subreddit_id': 't5_2w2s8', 'banned_by': Non...</td>\n",
              "      <td>None</td>\n",
              "    </tr>\n",
              "    <tr>\n",
              "      <th>3</th>\n",
              "      <td>3j8bhs</td>\n",
              "      <td>[{'subreddit_id': 't5_2w2s8', 'banned_by': Non...</td>\n",
              "      <td>None</td>\n",
              "    </tr>\n",
              "    <tr>\n",
              "      <th>4</th>\n",
              "      <td>3j895i</td>\n",
              "      <td>[{'subreddit_id': 't5_2w2s8', 'banned_by': Non...</td>\n",
              "      <td>None</td>\n",
              "    </tr>\n",
              "  </tbody>\n",
              "</table>\n",
              "</div>"
            ],
            "text/plain": [
              "       id                                           comments author_flair_text\n",
              "0  3j90qv  [{'subreddit_id': 't5_2w2s8', 'banned_by': Non...                1∆\n",
              "1  3j8yfq  [{'subreddit_id': 't5_2w2s8', 'banned_by': Non...              None\n",
              "2  3j8n34  [{'subreddit_id': 't5_2w2s8', 'banned_by': Non...              None\n",
              "3  3j8bhs  [{'subreddit_id': 't5_2w2s8', 'banned_by': Non...              None\n",
              "4  3j895i  [{'subreddit_id': 't5_2w2s8', 'banned_by': Non...              None"
            ]
          },
          "execution_count": 21,
          "metadata": {},
          "output_type": "execute_result"
        }
      ],
      "source": [
        "test_df[['id', 'comments', 'author_flair_text']].head()"
      ]
    },
    {
      "cell_type": "markdown",
      "metadata": {
        "id": "_Ip2TBVP5ERa"
      },
      "source": [
        "author_flair_text = Delta"
      ]
    },
    {
      "cell_type": "code",
      "execution_count": null,
      "metadata": {
        "colab": {
          "base_uri": "https://localhost:8080/"
        },
        "id": "TXN1o4Bc5GK7",
        "outputId": "0ee4f945-8ed6-46a0-d01c-1f039a0208da"
      },
      "outputs": [
        {
          "data": {
            "text/plain": [
              "{'subreddit_id': 't5_2w2s8',\n",
              " 'banned_by': None,\n",
              " 'removal_reason': None,\n",
              " 'link_id': 't3_3j90qv',\n",
              " 'likes': None,\n",
              " 'replies': {'kind': 'Listing',\n",
              "  'data': {'modhash': '',\n",
              "   'children': ['cunbngs'],\n",
              "   'after': None,\n",
              "   'before': None}},\n",
              " 'user_reports': [],\n",
              " 'saved': False,\n",
              " 'id': 'cun9x23',\n",
              " 'gilded': 0,\n",
              " 'archived': False,\n",
              " 'report_reasons': None,\n",
              " 'author': 'draculabakula',\n",
              " 'parent_id': 't3_3j90qv',\n",
              " 'score': 1,\n",
              " 'approved_by': None,\n",
              " 'controversiality': 0,\n",
              " 'body': 'The vice president often is called to act as a replacement for a duty or appearance if the president is not around. For instance, meeting foreign dignitaries if the president is out of town. There needs to be a second face of the executive branch.\\n\\nAlso, if the second in succession to the presidency was the speaker of the house, the opposing party might take it upon themselves to try and assassinate or impeach the president simply for the reason of taking over the executive branch. The position of vice president exists as a check and balance position.',\n",
              " 'edited': False,\n",
              " 'author_flair_css_class': ' points',\n",
              " 'downs': 0,\n",
              " 'body_html': '&lt;div class=\"md\"&gt;&lt;p&gt;The vice president often is called to act as a replacement for a duty or appearance if the president is not around. For instance, meeting foreign dignitaries if the president is out of town. There needs to be a second face of the executive branch.&lt;/p&gt;\\n\\n&lt;p&gt;Also, if the second in succession to the presidency was the speaker of the house, the opposing party might take it upon themselves to try and assassinate or impeach the president simply for the reason of taking over the executive branch. The position of vice president exists as a check and balance position.&lt;/p&gt;\\n&lt;/div&gt;',\n",
              " 'subreddit': 'changemyview',\n",
              " 'score_hidden': True,\n",
              " 'name': 't1_cun9x23',\n",
              " 'created': 1441161235.0,\n",
              " 'author_flair_text': '14∆',\n",
              " 'created_utc': 1441132435.0,\n",
              " 'distinguished': None,\n",
              " 'mod_reports': [],\n",
              " 'num_reports': None,\n",
              " 'ups': 1}"
            ]
          },
          "execution_count": 22,
          "metadata": {},
          "output_type": "execute_result"
        }
      ],
      "source": [
        "test_df.iloc[0]['comments'][0]"
      ]
    },
    {
      "cell_type": "markdown",
      "metadata": {
        "id": "RuJQED8r5Sf-"
      },
      "source": [
        "We can parse and build conversion tree for each post, usig the comments parent id."
      ]
    },
    {
      "cell_type": "markdown",
      "metadata": {
        "id": "TU_6mWLe62e2"
      },
      "source": [
        "# Preprocessing"
      ]
    },
    {
      "cell_type": "code",
      "execution_count": 3,
      "metadata": {
        "id": "ajmsXrav62e2"
      },
      "outputs": [],
      "source": [
        "# Step 1: Preprocessing - Load and Parse Data\n",
        "def load_jsonlines(file_path):\n",
        "    \"\"\"Load data from a .jsonlist file.\"\"\"\n",
        "    data = []\n",
        "    with open(file_path, 'r') as f:\n",
        "        for line in f:\n",
        "            data.append(json.loads(line.strip()))\n",
        "    return data"
      ]
    },
    {
      "cell_type": "code",
      "execution_count": 5,
      "metadata": {
        "id": "VkWHsEEa62e4"
      },
      "outputs": [
        {
          "name": "stdout",
          "output_type": "stream",
          "text": [
            "Size of all train data: 18363, size of all test data: 2263\n",
            "Size of pair train data: 3456, size of pair test data: 807\n"
          ]
        }
      ],
      "source": [
        "pair_test_df = pd.read_json(f'{root_dir}/CMv data/pair_task/heldout_pair_data.jsonlist', lines=True)\n",
        "pair_train_df = pd.read_json(f'{root_dir}/CMv data/pair_task/train_pair_data.jsonlist', lines=True)\n",
        "pair_combined_df = pd.concat([pair_test_df, pair_train_df])\n",
        "\n",
        "train_period_data = load_jsonlines(f\"{root_dir}/CMv data/all/train_period_data.jsonlist\")\n",
        "heldout_period_data = load_jsonlines(f\"{root_dir}/CMv data/all/heldout_period_data.jsonlist\")\n",
        "\n",
        "print(f\"Size of all train data: {len(train_period_data)}, size of all test data: {len(heldout_period_data)}\")\n",
        "print(f\"Size of pair train data: {len(pair_train_df)}, size of pair test data: {len(pair_test_df)}\")"
      ]
    },
    {
      "cell_type": "code",
      "execution_count": 6,
      "metadata": {
        "id": "1fbT11i462e5"
      },
      "outputs": [],
      "source": [
        "def clean_selftext(text):\n",
        "    \"\"\"\n",
        "    Remove the CMV rules section from the selftext field.\n",
        "    \"\"\"\n",
        "    return text.split('*Hello, users of CMV!')[0]\n",
        "\n",
        "# Step 2: Preprocessing - Extract Relevant Features\n",
        "def preprocess_data(data):\n",
        "    \"\"\"Extract and clean relevant data.\"\"\"\n",
        "    processed_data = []\n",
        "    for entry in data:\n",
        "        submission = {\n",
        "            \"id\": entry[\"id\"],\n",
        "            \"name\": entry[\"name\"],\n",
        "            \"author\": entry[\"author\"],\n",
        "            \"author_flair_text\": entry[\"author_flair_text\"], # General number of deltas got in the CMV subreddit\n",
        "            \"ups\": entry[\"ups\"],\n",
        "            \"downs\": entry[\"downs\"],\n",
        "            \"num_comments\": entry[\"num_comments\"],\n",
        "            \"body\": clean_selftext(entry[\"selftext\"]),\n",
        "            \"title\": entry[\"title\"],\n",
        "            \"comments\": entry['comments'],\n",
        "        }\n",
        "        processed_data.append(submission)\n",
        "    return processed_data"
      ]
    },
    {
      "cell_type": "code",
      "execution_count": 7,
      "metadata": {
        "id": "Gc9kkxg-62e5"
      },
      "outputs": [
        {
          "data": {
            "text/plain": [
              "(18363, 2263)"
            ]
          },
          "execution_count": 7,
          "metadata": {},
          "output_type": "execute_result"
        }
      ],
      "source": [
        "train_processed = preprocess_data(train_period_data)\n",
        "test_processed = preprocess_data(heldout_period_data)\n",
        "len(train_processed), len(test_processed)"
      ]
    },
    {
      "cell_type": "code",
      "execution_count": 8,
      "metadata": {
        "colab": {
          "base_uri": "https://localhost:8080/"
        },
        "id": "xNYFR859J16j",
        "outputId": "4d8d0faa-c307-45e6-8421-f408a1c3e0ba"
      },
      "outputs": [
        {
          "data": {
            "text/plain": [
              "(6030, 4990)"
            ]
          },
          "execution_count": 8,
          "metadata": {},
          "output_type": "execute_result"
        }
      ],
      "source": [
        "# Extract positive comment IDs from pair data\n",
        "positive_comment_ids = set()\n",
        "negative_comment_ids = set()\n",
        "for _, row in pair_combined_df[['positive', 'negative']].iterrows():  # Iterate through rows\n",
        "    positives = row['positive']  # Access 'positive' column\n",
        "    negatives = row['negative']  # Access 'negative' column\n",
        "    for comment in positives[\"comments\"]:\n",
        "        positive_comment_ids.add(comment[\"id\"])\n",
        "    for comment in negatives[\"comments\"]:\n",
        "        negative_comment_ids.add(comment[\"id\"])\n",
        "\n",
        "len(positive_comment_ids), len(negative_comment_ids)"
      ]
    },
    {
      "cell_type": "code",
      "execution_count": 9,
      "metadata": {},
      "outputs": [
        {
          "data": {
            "text/plain": [
              "op_author                                              923iwek\n",
              "op_text      I'll start off by saying I'm a vegetarian and ...\n",
              "op_title     CMV: The contribution of vegans/vegetarians an...\n",
              "positive     {'ancestor': 't1_cundk5r', 'author': 'ghoooooo...\n",
              "negative     {'ancestor': 't1_cunbl8g', 'author': 'ClimateM...\n",
              "op_name                                              t3_3j8yfq\n",
              "Name: 0, dtype: object"
            ]
          },
          "execution_count": 9,
          "metadata": {},
          "output_type": "execute_result"
        }
      ],
      "source": [
        "pair_combined_df.iloc[0]"
      ]
    },
    {
      "cell_type": "code",
      "execution_count": 10,
      "metadata": {
        "colab": {
          "base_uri": "https://localhost:8080/"
        },
        "id": "zvW1jhGK62e5",
        "outputId": "49fec3a0-cf54-4f0e-9c57-7aa0d113d278"
      },
      "outputs": [
        {
          "name": "stdout",
          "output_type": "stream",
          "text": [
            "Comments with delta: 6030\n",
            "Comments without delta: 287267\n",
            "Positive class ratio:  0.02055936473949614\n"
          ]
        }
      ],
      "source": [
        "# Flatten the comments for easy lookup and assign delta labels\n",
        "all_comments = {}\n",
        "op_names_set = set(pair_combined_df['op_name'])\n",
        "\n",
        "for i, submission in enumerate(train_processed):\n",
        "    if submission['name'] in op_names_set:\n",
        "        all_comments[submission['id']] = submission\n",
        "        all_comments[submission['id']][\"delta\"] = 0 \n",
        "\n",
        "        for comment in submission[\"comments\"]:\n",
        "            comment_id = comment[\"id\"]\n",
        "            if comment_id not in all_comments:  # Avoid overwrites\n",
        "                all_comments[comment_id] = comment\n",
        "            # Assign delta label\n",
        "            all_comments[comment_id][\"delta\"] = 1 if comment_id in positive_comment_ids else 0\n",
        "\n",
        "for submission in test_processed:\n",
        "    if submission['name'] in op_names_set:\n",
        "        all_comments[submission['id']] = submission\n",
        "        all_comments[submission['id']][\"delta\"] = 0 \n",
        "        for comment in submission[\"comments\"]:\n",
        "            comment_id = comment[\"id\"]\n",
        "            if comment_id not in all_comments:  # Avoid overwrites\n",
        "                all_comments[comment_id] = comment\n",
        "            # Assign delta label\n",
        "            all_comments[comment_id][\"delta\"] = 1 if comment_id in positive_comment_ids else 0\n",
        "\n",
        "# Count labeled and unlabeled comments\n",
        "delta_count = sum(comment[\"delta\"] == 1 for comment in all_comments.values())\n",
        "no_delta_count = sum(comment[\"delta\"] == 0 for comment in all_comments.values())\n",
        "\n",
        "print(f\"Comments with delta: {delta_count}\")\n",
        "print(f\"Comments without delta: {no_delta_count}\")\n",
        "print('Positive class ratio: ', delta_count / (delta_count + no_delta_count))"
      ]
    },
    {
      "cell_type": "code",
      "execution_count": 11,
      "metadata": {},
      "outputs": [
        {
          "name": "stdout",
          "output_type": "stream",
          "text": [
            "Length of reduced train_processed: 2509\n",
            "Length of reduced test_processed: 542\n"
          ]
        }
      ],
      "source": [
        "# Take only the graphs that has at least one delta in the comments\n",
        "train_processed_reduced = [submission for submission in train_processed if submission['name'] in op_names_set]\n",
        "test_processed_reduced = [submission for submission in test_processed if submission['name'] in op_names_set]\n",
        "\n",
        "# Output the lengths of the filtered lists\n",
        "len_train = len(train_processed_reduced)\n",
        "len_test = len(test_processed_reduced)\n",
        "\n",
        "print(f\"Length of reduced train_processed: {len_train}\")\n",
        "print(f\"Length of reduced test_processed: {len_test}\")\n"
      ]
    },
    {
      "cell_type": "markdown",
      "metadata": {
        "id": "R9OUm8me62e5"
      },
      "source": [
        "# Graph Construction"
      ]
    },
    {
      "cell_type": "code",
      "execution_count": 58,
      "metadata": {},
      "outputs": [],
      "source": [
        "# Graph Construction\n",
        "def standardize_node_id(node_id):\n",
        "    \"\"\"Remove Reddit-specific prefixes (t1_, t3_) from node IDs.\"\"\"\n",
        "    return node_id.split(\"_\")[-1]\n",
        "\n",
        "def build_basic_graph(root, comments, all_edges=False):\n",
        "    \"\"\"Build a conversation tree graph where each parent points to all its descendants.\"\"\"\n",
        "    graph = nx.DiGraph()\n",
        "    \n",
        "    # Filter comments and add the root node\n",
        "    comment_ids, root_id, root_author, root_body = initialize_graph(graph, root, comments)\n",
        "\n",
        "    # Add comment nodes and direct parent-child edges\n",
        "    delta_nodes = add_nodes_and_edges(graph, comments, root_id, root_author, root_body, comment_ids)\n",
        "\n",
        "    # Calculate distances from root to delta nodes\n",
        "    delta_distances = calculate_delta_distances(graph, root_id, delta_nodes)\n",
        "\n",
        "    # Add all descendant edges if specified\n",
        "    if all_edges:\n",
        "        add_descendant_edges(graph)\n",
        "\n",
        "    # Update root node attributes\n",
        "    update_root_node_attributes(graph, root_id, delta_nodes, delta_distances)\n",
        "\n",
        "    return graph\n",
        "\n",
        "\n",
        "def initialize_graph(graph, root, comments):\n",
        "    \"\"\"Initialize the graph by adding the root node and filtering comments.\"\"\"\n",
        "    comment_ids = {\n",
        "        standardize_node_id(comment[\"id\"]) for comment in comments if \"author\" not in comment or comment[\"author\"] != 'DeltaBot'\n",
        "    }\n",
        "    root_id = standardize_node_id(root[\"id\"])\n",
        "    root_author = root.get(\"author\", \"Unknown\")\n",
        "    root_body = root.get(\"body\", \"\")\n",
        "    \n",
        "    graph.add_node(\n",
        "        root_id,\n",
        "        text=root.get(\"body\", \"\"),\n",
        "        delta=0,\n",
        "        root_id=root_id,\n",
        "        root_body=root_body,\n",
        "        author=root_author,\n",
        "        ups=root.get(\"ups\", 0),\n",
        "        downs=root.get(\"downs\", 0),\n",
        "        node_type=0,\n",
        "        author_flair_text=root.get(\"author_flair_text\", 0),\n",
        "        delta_count=0,  # Initialize delta count\n",
        "        delta_distances=[],  # Initialize list for distances to delta nodes\n",
        "    )\n",
        "    comment_ids.add(root_id)\n",
        "\n",
        "    return comment_ids, root_id, root_author, root_body\n",
        "\n",
        "def add_nodes_and_edges(graph, comments, root_id, root_author, root_body, comment_ids):\n",
        "    \"\"\"Add nodes and direct parent-child edges to the graph.\"\"\"\n",
        "    delta_nodes = []\n",
        "    \n",
        "    for comment in comments:\n",
        "        # Standardize node IDs\n",
        "        node_id = standardize_node_id(comment[\"id\"])\n",
        "        parent_id = standardize_node_id(comment.get(\"parent_id\", \"\"))\n",
        "        \n",
        "        # Skip DeltaBot comments\n",
        "        if node_id not in comment_ids:\n",
        "            continue\n",
        "\n",
        "        # Add the current comment as a node\n",
        "        comment_author = comment.get(\"author\", \"Unknown\")\n",
        "        delta_value = comment.get(\"delta\", 0)\n",
        "        graph.add_node(\n",
        "            node_id,\n",
        "            text=comment.get(\"body\", \"\"),\n",
        "            delta=delta_value,\n",
        "            root_id=root_id,\n",
        "            root_body=root_body,\n",
        "            author=comment_author,\n",
        "            ups=comment.get(\"ups\", 0),\n",
        "            downs=comment.get(\"downs\", 0),\n",
        "            node_type=0 if comment_author == root_author else 1,  # Add node type\n",
        "            author_flair_text=comment.get(\"author_flair_text\", 0),\n",
        "        )\n",
        "\n",
        "        # Track delta nodes\n",
        "        if delta_value == 1:\n",
        "            delta_nodes.append(node_id)\n",
        "\n",
        "        # Add direct parent-child edge with distance = 1\n",
        "        if parent_id and parent_id in comment_ids:\n",
        "            graph.add_edge(parent_id, node_id, distance=1)\n",
        "    \n",
        "    return delta_nodes\n",
        "\n",
        "\n",
        "def calculate_delta_distances(graph, root_id, delta_nodes):\n",
        "    \"\"\"Calculate the distances from the root node to delta nodes.\"\"\"\n",
        "    delta_distances = []\n",
        "    for delta_node in delta_nodes:\n",
        "        try:\n",
        "            distance = nx.shortest_path_length(graph, source=root_id, target=delta_node)\n",
        "            delta_distances.append(distance)\n",
        "        except nx.NetworkXNoPath:\n",
        "            pass  # Skip if no path exists\n",
        "    return delta_distances\n",
        "\n",
        "\n",
        "def add_descendant_edges(graph):\n",
        "    \"\"\"Add edges from each node to all its descendants.\"\"\"\n",
        "    for node in list(graph.nodes):\n",
        "        descendants = nx.descendants(graph, node)  # Get all descendants\n",
        "        for descendant in descendants:\n",
        "            if not graph.has_edge(node, descendant):  # Avoid duplicate edges\n",
        "                distance = nx.shortest_path_length(graph, source=node, target=descendant)\n",
        "                graph.add_edge(node, descendant, distance=distance)  # Add distance as an attribute\n",
        "\n",
        "def update_root_node_attributes(graph, root_id, delta_nodes, delta_distances):\n",
        "    \"\"\"Update the root node with delta count and distances.\"\"\"\n",
        "    graph.nodes[root_id][\"delta_count\"] = len(delta_nodes)\n",
        "    graph.nodes[root_id][\"delta_distances\"] = delta_distances"
      ]
    },
    {
      "cell_type": "code",
      "execution_count": 47,
      "metadata": {},
      "outputs": [],
      "source": [
        "def generate_color_map(authors):\n",
        "    \"\"\"Generate a unique color for each author.\"\"\"\n",
        "    colors = itertools.cycle([\"red\", \"blue\", \"green\", \"orange\", \"purple\", \"brown\", \"pink\", \"gray\", \"olive\", \"cyan\", \"magenta\", \"yellow\", \"black\", \"silver\", \"gold\", \"lime\", \"teal\"])\n",
        "    return {author: next(colors) for author in authors}\n",
        "\n",
        "def visualize_graph_with_author_colors_and_labels(graph, figsize=(12, 8), title='Conversation Graph with Author Colors and Labels'):\n",
        "    \"\"\"Visualize the conversation graph with different colors for each author and custom labels.\"\"\"\n",
        "    plt.figure(figsize=figsize)\n",
        "    pos = nx.spring_layout(graph)  # Layout algorithm for positioning nodes\n",
        "\n",
        "    # Extract all unique authors from the graph\n",
        "    authors = {data[\"author\"] for _, data in graph.nodes(data=True)}\n",
        "\n",
        "    # Generate a color map for authors\n",
        "    color_map = generate_color_map(authors)\n",
        "    # Determine node colors based on the author\n",
        "    node_colors = [color_map[data[\"author\"]] for _, data in graph.nodes(data=True)]\n",
        "\n",
        "    # Draw nodes with colors\n",
        "    nx.draw_networkx_nodes(graph, pos, node_size=500, node_color=node_colors, alpha=0.8)\n",
        "\n",
        "    # Draw edges\n",
        "    nx.draw_networkx_edges(graph, pos, edge_color=\"gray\", alpha=0.5)\n",
        "\n",
        "    # Create custom labels\n",
        "    labels = {}\n",
        "    for node, data in graph.nodes(data=True):\n",
        "        if data.get(\"delta\", 0):  # Add delta sign for nodes with deltas\n",
        "            labels[node] = \"∆\"\n",
        "        elif data[\"root_id\"] == node:  # Display root text for the root node\n",
        "            labels[node] = \"Root\"  # Truncated root text\n",
        "        else:\n",
        "            labels[node] = data['author']  # No label for other nodes\n",
        "\n",
        "    # Draw labels\n",
        "    nx.draw_networkx_labels(graph, pos, labels, font_size=8, font_color=\"black\")\n",
        "\n",
        "    plt.title(title, fontsize=14)\n",
        "    plt.axis(\"off\")\n",
        "    plt.show()\n",
        "\n",
        "def plot_delta_distribution(train_graphs, test_graphs):\n",
        "    \"\"\"\n",
        "    Plot the distribution of the number of deltas in each graph for train and test sets.\n",
        "    \"\"\"\n",
        "    # Extract delta counts for train and test graphs\n",
        "    train_delta_counts = [\n",
        "        graph.nodes[root][\"delta_count\"]\n",
        "        for graph in train_graphs\n",
        "        for root in graph.nodes\n",
        "        if graph.nodes[root].get(\"root_id\") == root  # Identify root nodes\n",
        "    ]\n",
        "    test_delta_counts = [\n",
        "        graph.nodes[root][\"delta_count\"]\n",
        "        for graph in test_graphs\n",
        "        for root in graph.nodes\n",
        "        if graph.nodes[root].get(\"root_id\") == root  # Identify root nodes\n",
        "    ]\n",
        "\n",
        "    # Create subplots\n",
        "    fig, axes = plt.subplots(1, 2, figsize=(12, 5), sharey=True)\n",
        "\n",
        "    # Train distribution\n",
        "    axes[0].hist(train_delta_counts, bins=20, color=\"skyblue\", edgecolor=\"black\")\n",
        "    axes[0].set_title(\"Train Set\")\n",
        "    axes[0].set_xlabel(\"Number of Deltas\")\n",
        "    axes[0].set_ylabel(\"Frequency\")\n",
        "\n",
        "    # Test distribution\n",
        "    axes[1].hist(test_delta_counts, bins=20, color=\"lightcoral\", edgecolor=\"black\")\n",
        "    axes[1].set_title(\"Test Set\")\n",
        "    axes[1].set_xlabel(\"Number of Deltas\")\n",
        "\n",
        "    # Adjust layout and show\n",
        "    plt.suptitle(\"Distribution of Delta Counts per Graph\")\n",
        "    plt.tight_layout()\n",
        "    plt.show()\n",
        "\n",
        "\n",
        "def plot_delta_distance_distribution(train_graphs, test_graphs):\n",
        "    \"\"\"\n",
        "    Plot the distribution of distances to delta nodes for train and test sets.\n",
        "    \"\"\"\n",
        "    # Extract delta distances for train and test graphs\n",
        "    train_delta_distances = [\n",
        "        distance\n",
        "        for graph in train_graphs\n",
        "        for root in graph.nodes\n",
        "        if graph.nodes[root].get(\"root_id\") == root  # Identify root nodes\n",
        "        for distance in graph.nodes[root][\"delta_distances\"]\n",
        "    ]\n",
        "    test_delta_distances = [\n",
        "        distance\n",
        "        for graph in test_graphs\n",
        "        for root in graph.nodes\n",
        "        if graph.nodes[root].get(\"root_id\") == root  # Identify root nodes\n",
        "        for distance in graph.nodes[root][\"delta_distances\"]\n",
        "    ]\n",
        "\n",
        "    # Create subplots\n",
        "    fig, axes = plt.subplots(1, 2, figsize=(12, 5), sharey=True)\n",
        "\n",
        "    # Train distribution\n",
        "    axes[0].hist(train_delta_distances, bins=20, color=\"lightgreen\", edgecolor=\"black\")\n",
        "    axes[0].set_title(\"Train Set\")\n",
        "    axes[0].set_xlabel(\"Distance to Delta Node\")\n",
        "    axes[0].set_ylabel(\"Frequency\")\n",
        "\n",
        "    # Test distribution\n",
        "    axes[1].hist(test_delta_distances, bins=20, color=\"gold\", edgecolor=\"black\")\n",
        "    axes[1].set_title(\"Test Set\")\n",
        "    axes[1].set_xlabel(\"Distance to Delta Node\")\n",
        "\n",
        "    # Adjust layout and show\n",
        "    plt.suptitle(\"Distribution of Distances to Delta Nodes from Root\")\n",
        "    plt.tight_layout()\n",
        "    plt.show()\n",
        "\n",
        "def plot_edge_distance_distribution(train_graphs, test_graphs):\n",
        "    \"\"\"\n",
        "    Plot the distribution of edge distances for train and test sets.\n",
        "    \"\"\"\n",
        "    # Extract edge distances for train and test graphs\n",
        "    train_edge_distances = [\n",
        "        graph.edges[edge][\"distance\"]\n",
        "        for graph in train_graphs\n",
        "        for edge in graph.edges\n",
        "        if \"distance\" in graph.edges[edge]  # Ensure distance attribute exists\n",
        "    ]\n",
        "    test_edge_distances = [\n",
        "        graph.edges[edge][\"distance\"]\n",
        "        for graph in test_graphs\n",
        "        for edge in graph.edges\n",
        "        if \"distance\" in graph.edges[edge]  # Ensure distance attribute exists\n",
        "    ]\n",
        "\n",
        "    # Create subplots\n",
        "    fig, axes = plt.subplots(1, 2, figsize=(12, 5), sharey=True)\n",
        "\n",
        "    # Train distribution\n",
        "    axes[0].hist(train_edge_distances, bins=20, color=\"orange\", edgecolor=\"black\")\n",
        "    axes[0].set_title(\"Train Set\")\n",
        "    axes[0].set_xlabel(\"Edge Distance\")\n",
        "    axes[0].set_ylabel(\"Frequency\")\n",
        "\n",
        "    # Test distribution\n",
        "    axes[1].hist(test_edge_distances, bins=20, color=\"purple\", edgecolor=\"black\")\n",
        "    axes[1].set_title(\"Test Set\")\n",
        "    axes[1].set_xlabel(\"Edge Distance\")\n",
        "\n",
        "    # Adjust layout and show\n",
        "    plt.suptitle(\"Distribution of Edge Distances\")\n",
        "    plt.tight_layout()\n",
        "    plt.show()\n"
      ]
    },
    {
      "cell_type": "code",
      "execution_count": 59,
      "metadata": {
        "id": "ou_X1O7U62e6"
      },
      "outputs": [
        {
          "name": "stdout",
          "output_type": "stream",
          "text": [
            "Example graph with no op nodes: ['2ro9ux', 'cnhplrm', 'cnhrvq7', 'cnhz66d', 'cniauhy', 'cnibfev', 'cnhpsmr', 'cnhpvqs', 'cnhq7iw', 'cnhqrw1', 'cnhqzsf', 'cni8tcx', 'cnhpp4o', 'cnhqouu', 'cnhrd8u', 'cnhrwsq', 'cnhs6sc', 'cnhtr4t', 'cnhuopi', 'cnio1bg', 'cnhq330', 'cnhs7xb', 'cnhpnmr', 'cnhqhxa', 'cnhrkoc', 'cnhq7nv', 'cnhqcwz', 'cnhsyft', 'cnhww76', 'cnhz5wq', 'cni80dr', 'cni8e2y']\n",
            "Example graph with no op edges: [('2ro9ux', 'cnhplrm'), ('2ro9ux', 'cnhpp4o'), ('2ro9ux', 'cnhq330'), ('2ro9ux', 'cnhs7xb'), ('2ro9ux', 'cnhpnmr'), ('2ro9ux', 'cnhq7nv'), ('2ro9ux', 'cnhqcwz'), ('2ro9ux', 'cnhsyft'), ('2ro9ux', 'cnhww76'), ('2ro9ux', 'cnhz5wq'), ('2ro9ux', 'cni80dr'), ('2ro9ux', 'cni8e2y'), ('cnhplrm', 'cnhrvq7'), ('cnhplrm', 'cnhpsmr'), ('cnhplrm', 'cnhqzsf'), ('cnhplrm', 'cni8tcx'), ('cnhrvq7', 'cnhz66d'), ('cnhrvq7', 'cniauhy'), ('cniauhy', 'cnibfev'), ('cnhpsmr', 'cnhpvqs'), ('cnhpvqs', 'cnhq7iw'), ('cnhq7iw', 'cnhqrw1'), ('cnhpp4o', 'cnhqouu'), ('cnhqouu', 'cnhrd8u'), ('cnhrd8u', 'cnhrwsq'), ('cnhrwsq', 'cnhs6sc'), ('cnhs6sc', 'cnhtr4t'), ('cnhtr4t', 'cnhuopi'), ('cnhuopi', 'cnio1bg'), ('cnhpnmr', 'cnhqhxa'), ('cnhqhxa', 'cnhrkoc')]\n"
          ]
        },
        {
          "data": {
            "image/png": "[encoded data removed]",
            "text/plain": [
              "<Figure size 1200x800 with 1 Axes>"
            ]
          },
          "metadata": {},
          "output_type": "display_data"
        }
      ],
      "source": [
        "# Example graph with no op\n",
        "root = train_processed_reduced[0]\n",
        "example_graph = build_basic_graph(root, train_processed_reduced[0][\"comments\"])\n",
        "\n",
        "print('Example graph with no op nodes:', example_graph.nodes())\n",
        "print('Example graph with no op edges:', example_graph.edges())\n",
        "\n",
        "visualize_graph_with_author_colors_and_labels(example_graph, title='Example Conversation Graph without OP Nodes')"
      ]
    },
    {
      "cell_type": "code",
      "execution_count": 61,
      "metadata": {},
      "outputs": [
        {
          "name": "stdout",
          "output_type": "stream",
          "text": [
            "Example graph with no op nodes: ['2ro9ux', 'cnhplrm', 'cnhrvq7', 'cnhz66d', 'cniauhy', 'cnibfev', 'cnhpsmr', 'cnhpvqs', 'cnhq7iw', 'cnhqrw1', 'cnhqzsf', 'cni8tcx', 'cnhpp4o', 'cnhqouu', 'cnhrd8u', 'cnhrwsq', 'cnhs6sc', 'cnhtr4t', 'cnhuopi', 'cnio1bg', 'cnhq330', 'cnhs7xb', 'cnhpnmr', 'cnhqhxa', 'cnhrkoc', 'cnhq7nv', 'cnhqcwz', 'cnhsyft', 'cnhww76', 'cnhz5wq', 'cni80dr', 'cni8e2y']\n",
            "Example graph with no op edges: [('2ro9ux', 'cnhplrm'), ('2ro9ux', 'cnhpp4o'), ('2ro9ux', 'cnhq330'), ('2ro9ux', 'cnhs7xb'), ('2ro9ux', 'cnhpnmr'), ('2ro9ux', 'cnhq7nv'), ('2ro9ux', 'cnhqcwz'), ('2ro9ux', 'cnhsyft'), ('2ro9ux', 'cnhww76'), ('2ro9ux', 'cnhz5wq'), ('2ro9ux', 'cni80dr'), ('2ro9ux', 'cni8e2y'), ('2ro9ux', 'cnhuopi'), ('2ro9ux', 'cnhq7iw'), ('2ro9ux', 'cnhpsmr'), ('2ro9ux', 'cnhrd8u'), ('2ro9ux', 'cnio1bg'), ('2ro9ux', 'cnhpvqs'), ('2ro9ux', 'cni8tcx'), ('2ro9ux', 'cnhs6sc'), ('2ro9ux', 'cniauhy'), ('2ro9ux', 'cnhz66d'), ('2ro9ux', 'cnhqouu'), ('2ro9ux', 'cnhrvq7'), ('2ro9ux', 'cnhqzsf'), ('2ro9ux', 'cnibfev'), ('2ro9ux', 'cnhqrw1'), ('2ro9ux', 'cnhtr4t'), ('2ro9ux', 'cnhrkoc'), ('2ro9ux', 'cnhrwsq'), ('2ro9ux', 'cnhqhxa'), ('cnhplrm', 'cnhrvq7'), ('cnhplrm', 'cnhpsmr'), ('cnhplrm', 'cnhqzsf'), ('cnhplrm', 'cni8tcx'), ('cnhplrm', 'cnhpvqs'), ('cnhplrm', 'cnhqrw1'), ('cnhplrm', 'cnhq7iw'), ('cnhplrm', 'cniauhy'), ('cnhplrm', 'cnibfev'), ('cnhplrm', 'cnhz66d'), ('cnhrvq7', 'cnhz66d'), ('cnhrvq7', 'cniauhy'), ('cnhrvq7', 'cnibfev'), ('cniauhy', 'cnibfev'), ('cnhpsmr', 'cnhpvqs'), ('cnhpsmr', 'cnhq7iw'), ('cnhpsmr', 'cnhqrw1'), ('cnhpvqs', 'cnhq7iw'), ('cnhpvqs', 'cnhqrw1'), ('cnhq7iw', 'cnhqrw1'), ('cnhpp4o', 'cnhqouu'), ('cnhpp4o', 'cnhs6sc'), ('cnhpp4o', 'cnhtr4t'), ('cnhpp4o', 'cnhuopi'), ('cnhpp4o', 'cnhrwsq'), ('cnhpp4o', 'cnio1bg'), ('cnhpp4o', 'cnhrd8u'), ('cnhqouu', 'cnhrd8u'), ('cnhqouu', 'cnhs6sc'), ('cnhqouu', 'cnhuopi'), ('cnhqouu', 'cnhtr4t'), ('cnhqouu', 'cnhrwsq'), ('cnhqouu', 'cnio1bg'), ('cnhrd8u', 'cnhrwsq'), ('cnhrd8u', 'cnhs6sc'), ('cnhrd8u', 'cnhuopi'), ('cnhrd8u', 'cnhtr4t'), ('cnhrd8u', 'cnio1bg'), ('cnhrwsq', 'cnhs6sc'), ('cnhrwsq', 'cnhuopi'), ('cnhrwsq', 'cnio1bg'), ('cnhrwsq', 'cnhtr4t'), ('cnhs6sc', 'cnhtr4t'), ('cnhs6sc', 'cnhuopi'), ('cnhs6sc', 'cnio1bg'), ('cnhtr4t', 'cnhuopi'), ('cnhtr4t', 'cnio1bg'), ('cnhuopi', 'cnio1bg'), ('cnhpnmr', 'cnhqhxa'), ('cnhpnmr', 'cnhrkoc'), ('cnhqhxa', 'cnhrkoc')]\n"
          ]
        },
        {
          "data": {
            "image/png": "[encoded data removed]",
            "text/plain": [
              "<Figure size 1200x800 with 1 Axes>"
            ]
          },
          "metadata": {},
          "output_type": "display_data"
        }
      ],
      "source": [
        "# Example graph with no op\n",
        "root = train_processed_reduced[0]\n",
        "example_graph = build_basic_graph(root, train_processed_reduced[0][\"comments\"], all_edges=True)\n",
        "\n",
        "print('Example graph with no op nodes:', example_graph.nodes())\n",
        "print('Example graph with no op edges:', example_graph.edges())\n",
        "\n",
        "visualize_graph_with_author_colors_and_labels(example_graph, title='Example Conversation Graph with OP Nodes (as root) and All Edges')"
      ]
    },
    {
      "cell_type": "code",
      "execution_count": 63,
      "metadata": {},
      "outputs": [
        {
          "name": "stderr",
          "output_type": "stream",
          "text": [
            "100%|██████████| 2509/2509 [00:11<00:00, 221.38it/s]\n",
            "100%|██████████| 542/542 [00:02<00:00, 247.34it/s]\n"
          ]
        },
        {
          "data": {
            "text/plain": [
              "(2509, 542)"
            ]
          },
          "execution_count": 63,
          "metadata": {},
          "output_type": "execute_result"
        }
      ],
      "source": [
        "# Build graphs for all conversations in the training data\n",
        "conversation_graphs_train = []\n",
        "for record in tqdm(train_processed_reduced):\n",
        "    conversation_graphs_train.append(build_basic_graph(record, record[\"comments\"], all_edges=True))\n",
        "\n",
        "# Build graphs for all conversations in the test data\n",
        "conversation_graphs_test = []\n",
        "for record in tqdm(test_processed_reduced):\n",
        "    conversation_graphs_test.append(build_basic_graph(record, record[\"comments\"], all_edges=True))\n",
        "\n",
        "len(conversation_graphs_train), len(conversation_graphs_test)"
      ]
    },
    {
      "cell_type": "code",
      "execution_count": 64,
      "metadata": {},
      "outputs": [
        {
          "data": {
            "image/png": "[encoded data removed]",
            "text/plain": [
              "<Figure size 1200x500 with 2 Axes>"
            ]
          },
          "metadata": {},
          "output_type": "display_data"
        }
      ],
      "source": [
        "# Plot delta count distribution\n",
        "plot_delta_distribution(conversation_graphs_train, conversation_graphs_test)"
      ]
    },
    {
      "cell_type": "code",
      "execution_count": 65,
      "metadata": {},
      "outputs": [
        {
          "data": {
            "image/png": "[encoded data removed]",
            "text/plain": [
              "<Figure size 1200x500 with 2 Axes>"
            ]
          },
          "metadata": {},
          "output_type": "display_data"
        }
      ],
      "source": [
        "# Plot delta distance distribution\n",
        "plot_delta_distance_distribution(conversation_graphs_train, conversation_graphs_test)"
      ]
    },
    {
      "cell_type": "code",
      "execution_count": 66,
      "metadata": {},
      "outputs": [
        {
          "data": {
            "image/png": "[encoded data removed]",
            "text/plain": [
              "<Figure size 1200x500 with 2 Axes>"
            ]
          },
          "metadata": {},
          "output_type": "display_data"
        }
      ],
      "source": [
        "# Plot edge distance distribution\n",
        "plot_edge_distance_distribution(conversation_graphs_train, conversation_graphs_test)"
      ]
    },
    {
      "cell_type": "markdown",
      "metadata": {
        "id": "3b0ayIfs62e6"
      },
      "source": [
        "# Text Embedding + Data loaders"
      ]
    },
    {
      "cell_type": "code",
      "execution_count": 51,
      "metadata": {
        "id": "aSDmoyMy62e7"
      },
      "outputs": [],
      "source": [
        "# Feature Extraction - BERT Embeddings\n",
        "def generate_bert_embeddings(texts, tokenizer, model, device):\n",
        "    \"\"\"Generate embeddings for a list of texts using BERT.\"\"\"\n",
        "    inputs = tokenizer(texts, padding=True, truncation=True, return_tensors=\"pt\").to(device)\n",
        "    with torch.no_grad():\n",
        "        outputs = model(**inputs)\n",
        "    return outputs.last_hidden_state.mean(dim=1)"
      ]
    },
    {
      "cell_type": "code",
      "execution_count": 52,
      "metadata": {},
      "outputs": [
        {
          "name": "stdout",
          "output_type": "stream",
          "text": [
            "Using CUDA\n"
          ]
        }
      ],
      "source": [
        "# Load pre-trained BERT\n",
        "bert_tokenizer = BertTokenizer.from_pretrained(\"bert-base-uncased\")\n",
        "bert_model = BertModel.from_pretrained(\"bert-base-uncased\")\n",
        "if torch.cuda.is_available():\n",
        "    print(\"Using CUDA\")\n",
        "    device = torch.device(\"cuda\")\n",
        "else:\n",
        "    print(\"Using CPU\")\n",
        "    device = torch.device(\"cpu\")\n",
        "bert_model = bert_model.to(device)"
      ]
    },
    {
      "cell_type": "code",
      "execution_count": 53,
      "metadata": {},
      "outputs": [],
      "source": [
        "def build_node_to_idx(graphs):\n",
        "    \"\"\"\n",
        "    Create a global mapping from node IDs to numerical indices.\n",
        "    \"\"\"\n",
        "    node_to_idx = {}\n",
        "    idx = 0\n",
        "    for graph in graphs:\n",
        "        for node in graph.nodes:\n",
        "            if node not in node_to_idx:\n",
        "                node_to_idx[node] = idx\n",
        "                idx += 1\n",
        "    return node_to_idx"
      ]
    },
    {
      "cell_type": "code",
      "execution_count": 207,
      "metadata": {},
      "outputs": [],
      "source": [
        "# node_to_idx = build_node_to_idx(conversation_graphs_train + conversation_graphs_test)\n",
        "with open(f\"{root_dir}/embedding/node_to_idx.json\", \"r\") as f:\n",
        "    node_to_idx = json.load(f)\n",
        "\n",
        "len(node_to_idx)"
      ]
    },
    {
      "cell_type": "code",
      "execution_count": 73,
      "metadata": {},
      "outputs": [],
      "source": [
        "def generate_embeddings_from_graph(graph, tokenizer, model,  device):\n",
        "    \"\"\"\n",
        "    Generate embeddings for each node's text and its corresponding OP text.\n",
        "    \"\"\"\n",
        "    node_embeddings = {}\n",
        "    op_embeddings = {}\n",
        "    \n",
        "    for node, data in graph.nodes(data=True):\n",
        "        # Text for the node\n",
        "        node_text = data.get(\"text\", \"\")\n",
        "        op_text = data.get(\"root_body\", \"\")\n",
        "\n",
        "        # Generate embeddings\n",
        "        node_embedding = generate_bert_embeddings([node_text], tokenizer, model, device).squeeze(0)\n",
        "        op_embedding = generate_bert_embeddings([op_text], tokenizer, model, device).squeeze(0)\n",
        "\n",
        "        node_embeddings[node] = node_embedding\n",
        "        op_embeddings[node] = op_embedding\n",
        "\n",
        "    return node_embeddings, op_embeddings\n",
        "\n",
        "def generate_embeddings_for_all_graphs(graphs, tokenizer, model, node_to_idx, device):\n",
        "    \"\"\"\n",
        "    Generate embeddings for all graphs using the global node-to-index mapping.\n",
        "    Optimized to generate the OP embedding only once per graph.\n",
        "    \"\"\"\n",
        "    embeddings = torch.zeros(len(node_to_idx), model.config.hidden_size, device=device)\n",
        "    op_embeddings = torch.zeros(len(node_to_idx), model.config.hidden_size, device=device)\n",
        "\n",
        "    for graph in tqdm(graphs, desc=\"Generating embeddings\"):\n",
        "        # Generate the OP embedding once for the entire graph\n",
        "        root_body = list(graph.nodes(data=True))[0][1].get(\"root_body\", \"\")  # Assuming root_body is the same for all nodes in the graph\n",
        "        graph_op_embedding = generate_bert_embeddings([root_body], tokenizer, model, device).squeeze(0)\n",
        "\n",
        "        for node, data in graph.nodes(data=True):\n",
        "            node_idx = node_to_idx[node]\n",
        "            node_text = data.get(\"text\", \"\")\n",
        "\n",
        "            # Generate node embedding\n",
        "            node_embedding = generate_bert_embeddings([node_text], tokenizer, model, device).squeeze(0)\n",
        "\n",
        "            # Store embeddings\n",
        "            embeddings[node_idx] = node_embedding\n",
        "            op_embeddings[node_idx] = graph_op_embedding\n",
        "\n",
        "    return embeddings, op_embeddings"
      ]
    },
    {
      "cell_type": "code",
      "execution_count": 208,
      "metadata": {},
      "outputs": [],
      "source": [
        "sample_train_data = conversation_graphs_train[:20]\n",
        "sample_test_data = conversation_graphs_test[:10]"
      ]
    },
    {
      "cell_type": "code",
      "execution_count": 209,
      "metadata": {},
      "outputs": [
        {
          "name": "stderr",
          "output_type": "stream",
          "text": [
            "Generating embeddings:   0%|          | 0/20 [00:00<?, ?it/s]"
          ]
        },
        {
          "name": "stderr",
          "output_type": "stream",
          "text": [
            "Generating embeddings: 100%|██████████| 20/20 [00:21<00:00,  1.08s/it]\n",
            "Generating embeddings: 100%|██████████| 10/10 [00:08<00:00,  1.14it/s]\n"
          ]
        }
      ],
      "source": [
        "train_node_embeddings, train_op_embeddings = generate_embeddings_for_all_graphs(\n",
        "    sample_train_data, bert_tokenizer, bert_model, node_to_idx, device\n",
        ")\n",
        "\n",
        "test_node_embeddings, test_op_embeddings = generate_embeddings_for_all_graphs(\n",
        "    sample_test_data, bert_tokenizer, bert_model, node_to_idx, device\n",
        ")\n"
      ]
    },
    {
      "cell_type": "code",
      "execution_count": null,
      "metadata": {},
      "outputs": [],
      "source": [
        "# Save the embeddings to disk\n",
        "torch.save(train_node_embeddings, \"train_node_embeddings.pt\")\n",
        "torch.save(train_op_embeddings, \"train_op_embeddings.pt\")\n",
        "torch.save(test_node_embeddings, \"test_node_embeddings.pt\")\n",
        "torch.save(test_op_embeddings, \"test_op_embeddings.pt\")"
      ]
    },
    {
      "cell_type": "code",
      "execution_count": 127,
      "metadata": {},
      "outputs": [],
      "source": [
        "class GraphPerBatchDataset(torch.utils.data.Dataset):\n",
        "    def __init__(self, graphs, node_embeddings, op_embeddings, labels, global_node_to_idx):\n",
        "        \"\"\"\n",
        "        Dataset where each batch corresponds to a single graph.\n",
        "        \"\"\"\n",
        "        self.graphs = graphs\n",
        "        self.node_embeddings = node_embeddings\n",
        "        self.op_embeddings = op_embeddings\n",
        "        self.labels = labels\n",
        "        self.global_node_to_idx = global_node_to_idx\n",
        "\n",
        "    def __len__(self):\n",
        "        return len(self.graphs)\n",
        "\n",
        "    def __getitem__(self, idx):\n",
        "        graph = self.graphs[idx]\n",
        "\n",
        "        # Extract nodes and edges from the graph\n",
        "        graph_nodes = list(graph.nodes)\n",
        "\n",
        "        # Map global indices to local indices\n",
        "        local_node_to_idx = {node: i for i, node in enumerate(graph_nodes)}\n",
        "        batch_indices = [self.global_node_to_idx[node] for node in graph_nodes]\n",
        "\n",
        "        # Map edges from global to local indices\n",
        "        edge_index = torch.tensor(\n",
        "            [\n",
        "                [local_node_to_idx[src], local_node_to_idx[dst]]\n",
        "                for src, dst in graph.edges\n",
        "            ],\n",
        "            dtype=torch.long,\n",
        "        ).t().contiguous()\n",
        "\n",
        "        # Extract edge attributes (e.g., distance)\n",
        "        edge_attr = torch.tensor(\n",
        "            [graph[src][dst][\"distance\"] for src, dst in graph.edges],\n",
        "            dtype=torch.float,\n",
        "        ).unsqueeze(1)  # Shape: [num_edges, 1]\n",
        "\n",
        "        node_types = torch.tensor(\n",
        "            [graph.nodes[node][\"node_type\"] for node in graph_nodes],\n",
        "            dtype=torch.long,\n",
        "        )  # Assign 1 for \"predict\" and 0 for \"author\" for op nodes\n",
        "\n",
        "        # Prepare features and labels\n",
        "        embeddings = self.node_embeddings[batch_indices]\n",
        "        op_feats = self.op_embeddings[batch_indices]\n",
        "        graph_labels = torch.tensor([self.labels[node] for node in graph_nodes], dtype=torch.long)\n",
        "\n",
        "        # Create a `Data` object for the graph\n",
        "        return Data(x=embeddings, edge_index=edge_index, edge_attr=edge_attr, op=op_feats, node_type=node_types, y=graph_labels)"
      ]
    },
    {
      "cell_type": "code",
      "execution_count": 210,
      "metadata": {},
      "outputs": [],
      "source": [
        "# Generate labels for graph nodes\n",
        "labels = {\n",
        "    comment_id: comment[\"delta\"] if comment[\"delta\"] is not None else 0\n",
        "    for comment_id, comment in all_comments.items()\n",
        "}"
      ]
    },
    {
      "cell_type": "code",
      "execution_count": 211,
      "metadata": {},
      "outputs": [],
      "source": [
        "# Create datasets\n",
        "train_dataset = GraphPerBatchDataset(\n",
        "    graphs=sample_train_data,\n",
        "    node_embeddings=train_node_embeddings,\n",
        "    op_embeddings=train_op_embeddings,\n",
        "    labels=labels,\n",
        "    global_node_to_idx=node_to_idx,\n",
        ")\n",
        "\n",
        "val_dataset = GraphPerBatchDataset(\n",
        "    graphs=sample_test_data,\n",
        "    node_embeddings=test_node_embeddings,\n",
        "    op_embeddings=test_op_embeddings,\n",
        "    labels=labels,\n",
        "    global_node_to_idx=node_to_idx,\n",
        ")\n",
        "\n",
        "test_dataset = GraphPerBatchDataset(\n",
        "    graphs=sample_test_data,\n",
        "    node_embeddings=test_node_embeddings,\n",
        "    op_embeddings=test_op_embeddings,\n",
        "    labels=labels,\n",
        "    global_node_to_idx=node_to_idx,\n",
        ")\n",
        "\n",
        "# Create dataloaders\n",
        "dataloaders = {\n",
        "    \"train\": DataLoader(train_dataset, batch_size=1, shuffle=True),\n",
        "    \"val\": DataLoader(val_dataset, batch_size=1),\n",
        "    \"test\": DataLoader(test_dataset, batch_size=1),\n",
        "}"
      ]
    },
    {
      "cell_type": "code",
      "execution_count": 212,
      "metadata": {},
      "outputs": [
        {
          "name": "stdout",
          "output_type": "stream",
          "text": [
            "Train DataLoader:\n",
            "DataBatch(x=[145, 768], edge_index=[2, 468], edge_attr=[468, 1], y=[145], op=[145, 768], node_type=[145], batch=[145], ptr=[2])\n",
            "Val DataLoader:\n",
            "DataBatch(x=[121, 768], edge_index=[2, 411], edge_attr=[411, 1], y=[121], op=[121, 768], node_type=[121], batch=[121], ptr=[2])\n",
            "Test DataLoader:\n",
            "DataBatch(x=[121, 768], edge_index=[2, 411], edge_attr=[411, 1], y=[121], op=[121, 768], node_type=[121], batch=[121], ptr=[2])\n"
          ]
        }
      ],
      "source": [
        "for split, loader in dataloaders.items():\n",
        "    print(f\"{split.capitalize()} DataLoader:\")\n",
        "    for batch in loader:\n",
        "        print(batch)\n",
        "        break\n"
      ]
    },
    {
      "cell_type": "markdown",
      "metadata": {
        "id": "JuVRrAk062e7"
      },
      "source": [
        "# GNN + Baseline"
      ]
    },
    {
      "cell_type": "markdown",
      "metadata": {},
      "source": [
        "**Approach 1: EdgeWeightedGNN**\n",
        "\n",
        "EdgeWeightedGNN is a graph neural network that learns edge-specific weights to enhance message propagation. It uses learnable Multi-Layer Perceptrons (MLPs) to transform both node features and edge attributes independently for each layer. The model leverages these transformed edge weights during the message passing process.\n",
        "\n",
        "**Approach 2: DistanceWeightedGNN**\n",
        "\n",
        "DistanceWeightedGNN uses predefined edge weights based on the distance attribute, computed as \n",
        "1 / (distance + 1). It utilizes two GCN layers for feature propagation and aggregation, followed by a projection step to align the final embedding size.\n",
        "\n",
        "**Approach 3: BaselineNodeClassifier**\n",
        "\n",
        "BaselineNodeClassifier is a simple feedforward neural network that directly processes node embeddings and OP embeddings. It does not rely on graph-based propagation or edge attributes, treating each node independently."
      ]
    },
    {
      "cell_type": "code",
      "execution_count": 240,
      "metadata": {
        "id": "h2K5pw-D62e7"
      },
      "outputs": [],
      "source": [
        "from torch_geometric.nn import MessagePassing\n",
        "\n",
        "# Approach 1: Learnable Transformation for Edge Weights\n",
        "class EdgeWeightedGNN(MessagePassing):\n",
        "    def __init__(self, in_channels, op_channels, out_channels, num_layers=2, hidden_dim=64, dropout=0.2):\n",
        "        super(EdgeWeightedGNN, self).__init__(aggr=\"add\")  # Aggregation type\n",
        "        self.num_layers = num_layers\n",
        "        self.node_mlp = torch.nn.ModuleList(\n",
        "            [torch.nn.Linear(in_channels if i == 0 else hidden_dim, hidden_dim) for i in range(num_layers)]\n",
        "        )\n",
        "        self.edge_mlp = torch.nn.ModuleList(\n",
        "            [torch.nn.Linear(1, hidden_dim) for _ in range(num_layers)]  # One for each layer\n",
        "        )\n",
        "        self.projection = torch.nn.Linear(hidden_dim, in_channels)  # Project back to initial embedding size\n",
        "        self.fc = torch.nn.Linear(in_channels + op_channels, out_channels)\n",
        "        self.dropout = torch.nn.Dropout(dropout)\n",
        "\n",
        "    def forward(self, batch, return_embeddings=False):\n",
        "        x = batch.x\n",
        "        edge_index = batch.edge_index\n",
        "        edge_attr = batch.edge_attr\n",
        "\n",
        "        for i in range(self.num_layers):\n",
        "            # Transform node features\n",
        "            x = self.node_mlp[i](x)\n",
        "            x = F.relu(x)\n",
        "            x = self.dropout(x)\n",
        "\n",
        "            # Transform edge attributes\n",
        "            edge_weight = self.edge_mlp[i](edge_attr)\n",
        "\n",
        "            # Message passing\n",
        "            x = self.propagate(edge_index, x=x, edge_weight=edge_weight)\n",
        "\n",
        "        # Project embeddings back to initial embedding size\n",
        "        final_embeddings = self.projection(x)\n",
        "\n",
        "        if return_embeddings:\n",
        "            return final_embeddings  # Return node embeddings only\n",
        "\n",
        "        # Concatenate OP embedding before the linear layer\n",
        "        x = torch.cat([final_embeddings, batch.op], dim=1)\n",
        "        x = self.fc(x)\n",
        "        return x\n",
        "\n",
        "    def message(self, x_j, edge_weight):\n",
        "        return x_j * edge_weight  # Scale source node features by edge weight\n",
        "\n",
        "# Approach 2: Predefined Distance Decay for Edge Weights\n",
        "class DistanceWeightedGNN(torch.nn.Module):\n",
        "    def __init__(self, in_channels, op_channels, out_channels, dropout=0.2):\n",
        "        super(DistanceWeightedGNN, self).__init__()\n",
        "        self.conv1 = GCNConv(in_channels, 64)\n",
        "        self.conv2 = GCNConv(64, 64)\n",
        "        self.projection = torch.nn.Linear(64, in_channels)  # Project back to initial embedding size\n",
        "        self.fc = torch.nn.Linear(in_channels + op_channels, out_channels)  # Adjust size\n",
        "        self.dropout = torch.nn.Dropout(dropout)\n",
        "\n",
        "    def forward(self, batch, return_embeddings=False):\n",
        "        # Compute edge weights using distance\n",
        "        edge_weight = 1 / (batch.edge_attr + 1)  # Distance decay function\n",
        "\n",
        "        # Apply GNN layers\n",
        "        x = self.conv1(batch.x, batch.edge_index, edge_weight=edge_weight.squeeze())\n",
        "        x = F.relu(x)\n",
        "        x = self.dropout(x)\n",
        "        x = self.conv2(x, batch.edge_index, edge_weight=edge_weight.squeeze())\n",
        "        x = F.relu(x)\n",
        "        x = self.dropout(x)\n",
        "\n",
        "        # Project embeddings back to initial embedding size\n",
        "        final_embeddings = self.projection(x)\n",
        "\n",
        "        if return_embeddings:\n",
        "            return final_embeddings  # Return node embeddings only\n",
        "\n",
        "        # Concatenate OP embedding before the linear layer\n",
        "        x = torch.cat([final_embeddings, batch.op], dim=1)\n",
        "        x = self.fc(x)\n",
        "        return x\n",
        "    \n",
        "# Approach 3: Baseline Node Classifier\n",
        "class BaselineNodeClassifier(nn.Module):\n",
        "    def __init__(self, input_dim, hidden_dim, output_dim, dropout=0.1):\n",
        "        super(BaselineNodeClassifier, self).__init__()\n",
        "        self.fc1 = nn.Linear(input_dim, hidden_dim)\n",
        "        self.relu = nn.ReLU()\n",
        "        self.dropout = nn.Dropout(dropout)\n",
        "        self.fc2 = nn.Linear(hidden_dim, output_dim)\n",
        "        self.softmax = nn.Softmax(dim=1)  # For classification\n",
        "\n",
        "    def forward(self, data):\n",
        "        # Concatenate the initial node embedding (x) and the op embedding\n",
        "        inputs = torch.cat((data.x, data.op), dim=1)\n",
        "        x = self.fc1(inputs)\n",
        "        x = self.relu(x)\n",
        "        x = self.dropout(x)\n",
        "        x = self.fc2(x)\n",
        "        return self.softmax(x)\n"
      ]
    },
    {
      "cell_type": "code",
      "execution_count": 215,
      "metadata": {},
      "outputs": [],
      "source": [
        "def plot_loss(train_losses, val_losses, results_dir=\"results\"):\n",
        "    plt.figure()\n",
        "    plt.plot(train_losses, label=\"Train Loss\")\n",
        "    plt.plot(val_losses, label=\"Validation Loss\")\n",
        "    plt.xlabel(\"Epochs\")\n",
        "    plt.ylabel(\"Loss\")\n",
        "    plt.title(\"Training and Validation Loss\")\n",
        "    plt.legend()\n",
        "    plt.savefig(f\"{results_dir}/loss_curve.png\")\n",
        "    plt.close()\n",
        "    \n",
        "def plot_roc(fpr, tpr, roc_auc, results_dir=\"results\"):\n",
        "    plt.figure()\n",
        "    plt.plot(fpr, tpr, label=f\"ROC Curve (AUC = {roc_auc:.4f})\")\n",
        "    plt.plot([0, 1], [0, 1], linestyle=\"--\", color=\"gray\")  # Diagonal line\n",
        "    plt.xlabel(\"False Positive Rate\")\n",
        "    plt.ylabel(\"True Positive Rate\")\n",
        "    plt.title(\"Receiver Operating Characteristic (ROC) Curve\")\n",
        "    plt.legend(loc=\"lower right\")\n",
        "    plt.savefig(f\"{results_dir}/roc_curve.png\")\n",
        "    plt.close()"
      ]
    },
    {
      "cell_type": "code",
      "execution_count": 216,
      "metadata": {
        "id": "qjyMJPbZ62e8"
      },
      "outputs": [],
      "source": [
        "def mask_author_nodes(predictions, labels, node_types):\n",
        "    # Create a mask to exclude author nodes\n",
        "    mask = (node_types != 0).to(torch.bool)\n",
        "\n",
        "    # Apply the mask to predictions and labels\n",
        "    predictions = predictions[mask]\n",
        "    labels = labels[mask]\n",
        "    return predictions, labels\n",
        "\n",
        "def train_and_evaluate_model(\n",
        "    model, dataloaders, epochs=10, lr=0.01, class_weights=None, weight_decay=0.0, device=\"cpu\", patience=20\n",
        "):\n",
        "    optimizer = torch.optim.Adam(model.parameters(), lr=lr, weight_decay=weight_decay)\n",
        "    model = model.to(device)\n",
        "\n",
        "    # Use class weights in the loss function\n",
        "    loss_fn = torch.nn.CrossEntropyLoss(weight=class_weights)\n",
        "\n",
        "    train_losses, val_losses = [], []\n",
        "\n",
        "    best_val_loss = float(\"inf\")  # Initialize the best validation loss\n",
        "    best_model_state = None       # Variable to store the best model state\n",
        "    epochs_without_improvement = 0  # Counter for early stopping\n",
        "\n",
        "    for epoch in range(epochs):\n",
        "        model.train()\n",
        "        train_loss = 0\n",
        "\n",
        "        for batch in dataloaders[\"train\"]:\n",
        "            batch = batch.to(device)\n",
        "            optimizer.zero_grad()\n",
        "\n",
        "            # Forward pass\n",
        "            out = model(batch)\n",
        "\n",
        "            predictions_masked, labels_masked = mask_author_nodes(out, batch.y, batch.node_type)\n",
        "            loss = loss_fn(predictions_masked, labels_masked)\n",
        "            loss.backward()\n",
        "            optimizer.step()\n",
        "\n",
        "            train_loss += loss.item()\n",
        "\n",
        "        train_losses.append(train_loss)\n",
        "\n",
        "        # Validation\n",
        "        model.eval()\n",
        "        with torch.no_grad():\n",
        "            val_loss = 0\n",
        "            for batch in dataloaders[\"val\"]:\n",
        "                batch = batch.to(device)\n",
        "                out = model(batch)\n",
        "                predictions_masked, labels_masked = mask_author_nodes(out, batch.y, batch.node_type)\n",
        "                loss = loss_fn(predictions_masked, labels_masked)\n",
        "                val_loss += loss.item()\n",
        "\n",
        "            val_losses.append(val_loss)\n",
        "\n",
        "        print(f\"Epoch {epoch + 1}, Train Loss: {train_loss:.4f}, Val Loss: {val_loss:.4f}\")\n",
        "\n",
        "        # Save the model if this is the best validation loss so far\n",
        "        if val_loss < best_val_loss:\n",
        "            best_val_loss = val_loss\n",
        "            best_model_state = model.state_dict()  # Save the model's state\n",
        "            epochs_without_improvement = 0  # Reset the counter\n",
        "        else:\n",
        "            epochs_without_improvement += 1\n",
        "\n",
        "        # Check for early stopping\n",
        "        if epochs_without_improvement >= patience:\n",
        "            print(f\"Early stopping triggered after {epoch + 1} epochs.\")\n",
        "            break\n",
        "\n",
        "    print(f\"Best Validation Loss: {best_val_loss:.4f}\")\n",
        "    return train_losses, val_losses, best_model_state\n",
        "\n",
        "def evaluate_model_on_test(model, dataloader, results_dir=\"results\", device=\"cpu\"):\n",
        "    model.eval()\n",
        "    model = model.to(device)  # Ensure model is on the correct device\n",
        "    with torch.no_grad():\n",
        "        all_preds, all_labels, all_probs = [], [], []\n",
        "\n",
        "        for batch in dataloader:\n",
        "            batch = batch.to(device)\n",
        "            out = model(batch)\n",
        "\n",
        "            # Extract predictions, probabilities, and labels\n",
        "            probs = torch.softmax(out, dim=1)[:, 1]  # Probabilities for the positive class\n",
        "            preds = out.argmax(dim=1)\n",
        "            labels = batch.y\n",
        "\n",
        "            # Mask author nodes using your mask function\n",
        "            probs_masked, labels_masked = mask_author_nodes(probs, labels, batch.node_type)\n",
        "            preds_masked, _ = mask_author_nodes(preds, labels, batch.node_type)\n",
        "\n",
        "            # Convert to numpy for metric calculations\n",
        "            all_probs.extend(probs_masked.cpu().numpy())\n",
        "            all_preds.extend(preds_masked.cpu().numpy())\n",
        "            all_labels.extend(labels_masked.cpu().numpy())\n",
        "\n",
        "        # Calculate metrics\n",
        "        acc = accuracy_score(all_labels, all_preds)\n",
        "        f1 = f1_score(all_labels, all_preds)\n",
        "        roc_auc = roc_auc_score(all_labels, all_probs)  # Calculate ROC-AUC score\n",
        "        print(f\"Test Accuracy: {acc:.4f}, Test F1: {f1:.4f}, ROC-AUC: {roc_auc:.4f}\")\n",
        "\n",
        "        # Confusion Matrix\n",
        "        cm = confusion_matrix(all_labels, all_preds)\n",
        "        disp = ConfusionMatrixDisplay(confusion_matrix=cm)\n",
        "        disp.plot(cmap=\"Blues\", values_format=\"d\")\n",
        "\n",
        "        # Save Confusion Matrix\n",
        "        plt.title(\"Confusion Matrix\")\n",
        "        plt.savefig(f\"{results_dir}/confusion_matrix.png\")\n",
        "        plt.close()\n",
        "\n",
        "        # Classification Report\n",
        "        report = classification_report(all_labels, all_preds, target_names=[\"Negative\", \"Positive\"])\n",
        "        print(report)\n",
        "\n",
        "        # Save Classification Report\n",
        "        with open(f\"{results_dir}/classification_report.txt\", \"w\") as f:\n",
        "            f.write(report)\n",
        "\n",
        "        # Plot ROC Curve\n",
        "        fpr, tpr, _ = roc_curve(all_labels, all_probs)\n",
        "        plot_roc(fpr, tpr, roc_auc, results_dir=results_dir)"
      ]
    },
    {
      "cell_type": "code",
      "execution_count": 217,
      "metadata": {},
      "outputs": [
        {
          "name": "stdout",
          "output_type": "stream",
          "text": [
            "Class Weights: tensor([ 0.5082, 30.9231], device='cuda:0')\n"
          ]
        }
      ],
      "source": [
        "def calculate_class_weights(dataloader):\n",
        "    \"\"\"\n",
        "    Calculate class weights for the training dataset.\n",
        "    \"\"\"\n",
        "    all_labels = []\n",
        "    for batch in dataloader:\n",
        "        all_labels.extend(batch.y.cpu().numpy())\n",
        "\n",
        "    # Convert class labels to NumPy array\n",
        "    class_weights = compute_class_weight(\n",
        "        class_weight='balanced',\n",
        "        classes=np.array([0, 1]),  # Convert classes to NumPy array\n",
        "        y=np.array(all_labels)    # Convert labels to NumPy array\n",
        "    )\n",
        "    return torch.tensor(class_weights, dtype=torch.float).to(device)\n",
        "\n",
        "train_class_weights = calculate_class_weights(dataloaders[\"train\"])\n",
        "print(f\"Class Weights: {train_class_weights}\")"
      ]
    },
    {
      "cell_type": "code",
      "execution_count": 241,
      "metadata": {
        "id": "57moFf4562e8",
        "outputId": "4667c668-501d-4e63-9b8f-8369e4161154"
      },
      "outputs": [
        {
          "name": "stderr",
          "output_type": "stream",
          "text": [
            "0it [00:00, ?it/s]"
          ]
        },
        {
          "name": "stdout",
          "output_type": "stream",
          "text": [
            "Training with model: distance_weighted_gnn, lr: 0.001, epochs: 5, l1: 1e-05, dropout: 0.1\n",
            "Epoch 1, Train Loss: 14.9425, Val Loss: 6.8735\n",
            "Epoch 2, Train Loss: 13.6940, Val Loss: 6.6276\n",
            "Epoch 3, Train Loss: 13.0492, Val Loss: 6.5403\n",
            "Epoch 4, Train Loss: 12.2639, Val Loss: 6.1306\n",
            "Epoch 5, Train Loss: 11.5585, Val Loss: 6.2406\n",
            "Best Validation Loss: 6.1306\n",
            "Test Accuracy: 0.7418, Test F1: 0.0753, ROC-AUC: 0.7656\n",
            "              precision    recall  f1-score   support\n",
            "\n",
            "    Negative       0.98      0.75      0.85       837\n",
            "    Positive       0.04      0.47      0.08        19\n",
            "\n",
            "    accuracy                           0.74       856\n",
            "   macro avg       0.51      0.61      0.46       856\n",
            "weighted avg       0.96      0.74      0.83       856\n",
            "\n"
          ]
        },
        {
          "name": "stderr",
          "output_type": "stream",
          "text": [
            "1it [00:01,  1.50s/it]"
          ]
        },
        {
          "name": "stdout",
          "output_type": "stream",
          "text": [
            "Training with model: edge_weighted_gnn, lr: 0.001, epochs: 5, l1: 1e-05, dropout: 0.1\n",
            "Epoch 1, Train Loss: 14.4600, Val Loss: 7.3337\n",
            "Epoch 2, Train Loss: 12.1229, Val Loss: 5.8489\n",
            "Epoch 3, Train Loss: 11.0689, Val Loss: 5.7809\n",
            "Epoch 4, Train Loss: 10.3599, Val Loss: 6.1322\n",
            "Epoch 5, Train Loss: 10.0768, Val Loss: 5.8005\n",
            "Best Validation Loss: 5.7809\n"
          ]
        },
        {
          "name": "stderr",
          "output_type": "stream",
          "text": [
            "2it [00:05,  3.00s/it]"
          ]
        },
        {
          "name": "stdout",
          "output_type": "stream",
          "text": [
            "Test Accuracy: 0.4661, Test F1: 0.0692, ROC-AUC: 0.7351\n",
            "              precision    recall  f1-score   support\n",
            "\n",
            "    Negative       0.99      0.46      0.63       837\n",
            "    Positive       0.04      0.89      0.07        19\n",
            "\n",
            "    accuracy                           0.47       856\n",
            "   macro avg       0.52      0.68      0.35       856\n",
            "weighted avg       0.97      0.47      0.61       856\n",
            "\n",
            "Training with model: baseline, lr: 0.001, epochs: 5, l1: 1e-05, dropout: 0.1\n",
            "Epoch 1, Train Loss: 13.7442, Val Loss: 6.5065\n",
            "Epoch 2, Train Loss: 12.6196, Val Loss: 6.5396\n",
            "Epoch 3, Train Loss: 11.8264, Val Loss: 5.8360\n",
            "Epoch 4, Train Loss: 11.0518, Val Loss: 6.2460\n",
            "Epoch 5, Train Loss: 10.3090, Val Loss: 8.5230\n",
            "Best Validation Loss: 5.8360\n",
            "Test Accuracy: 0.9743, Test F1: 0.0000, ROC-AUC: 0.8133\n",
            "              precision    recall  f1-score   support\n",
            "\n",
            "    Negative       0.98      1.00      0.99       837\n",
            "    Positive       0.00      0.00      0.00        19\n",
            "\n",
            "    accuracy                           0.97       856\n",
            "   macro avg       0.49      0.50      0.49       856\n",
            "weighted avg       0.96      0.97      0.97       856\n",
            "\n"
          ]
        },
        {
          "name": "stderr",
          "output_type": "stream",
          "text": [
            "3it [00:06,  2.14s/it]\n"
          ]
        }
      ],
      "source": [
        "# Define hyperparameters\n",
        "learning_rates = [0.001] # , 0.0001\n",
        "num_epochs = [5] # ,50, 200  \n",
        "weight_decay_values = [1e-5] # , 1e-3\n",
        "dropout_rates = [0.1] # , 0.3\n",
        "model_types = [\"distance_weighted_gnn\", \"edge_weighted_gnn\", \"baseline\"]\n",
        "\n",
        "# Variables to track the best model for each type\n",
        "best_val_loss_by_model = {model_type: float('inf') for model_type in model_types}\n",
        "best_hyperparams_by_model = {model_type: None for model_type in model_types}\n",
        "best_model_state_by_model = {model_type: None for model_type in model_types}\n",
        "\n",
        "# Iterate over combinations\n",
        "for model_type, lr, epochs, weight_decay, dropout in tqdm(product(model_types, learning_rates, num_epochs, weight_decay_values, dropout_rates)):\n",
        "    print(f\"Training with model: {model_type}, lr: {lr}, epochs: {epochs}, l1: {weight_decay}, dropout: {dropout}\")\n",
        "\n",
        "    results_dir = f'{root_dir}/results/{model_type}'\n",
        "    os.makedirs(results_dir, exist_ok=True)\n",
        "\n",
        "    # Create a subdirectory for the current hyperparameters\n",
        "    hyperparam_dir = f\"{results_dir}/lr_{lr}_epochs_{epochs}_l1_{weight_decay}_dropout_{dropout}\"\n",
        "    # if os.path.exists(hyperparam_dir):\n",
        "    #     continue\n",
        "\n",
        "    os.makedirs(hyperparam_dir, exist_ok=True)\n",
        "\n",
        "    if model_type == \"distance_weighted_gnn\":\n",
        "        model = DistanceWeightedGNN(\n",
        "            in_channels=train_dataset[0].x.shape[1],\n",
        "            op_channels=train_dataset[0].op.shape[1],\n",
        "            out_channels=2,\n",
        "            dropout=dropout\n",
        "        )\n",
        "    elif model_type == \"edge_weighted_gnn\":\n",
        "        model = EdgeWeightedGNN( \n",
        "            in_channels=train_dataset[0].x.shape[1],\n",
        "            op_channels=train_dataset[0].op.shape[1],\n",
        "            out_channels=2,\n",
        "            dropout=dropout\n",
        "        )\n",
        "    elif model_type == \"baseline\":\n",
        "        input_dim = train_dataset[0].x.shape[1] + train_dataset[0].op.shape[1]\n",
        "        hidden_dim = 256\n",
        "        output_dim = 2\n",
        "        model = BaselineNodeClassifier(input_dim, hidden_dim, output_dim, dropout=dropout)\n",
        "\n",
        "    # Train and evaluate\n",
        "    train_losses, val_losses, model_best_val = train_and_evaluate_model(\n",
        "        model, dataloaders, epochs=epochs, lr=lr, class_weights=train_class_weights, weight_decay=weight_decay, device=device\n",
        "    )\n",
        "\n",
        "    torch.save(model_best_val, f\"{hyperparam_dir}/model_state.pth\")\n",
        "\n",
        "    # Track the best model for the current model type based on validation loss\n",
        "    avg_val_loss = sum(val_losses) / len(val_losses)\n",
        "    if avg_val_loss < best_val_loss_by_model[model_type]:\n",
        "        best_val_loss_by_model[model_type] = avg_val_loss\n",
        "        best_model_state_by_model[model_type] = model_best_val\n",
        "        best_hyperparams_by_model[model_type] = {\"lr\": lr, \"epochs\": epochs, \"l1_lambda\": weight_decay, \"dropout\": dropout}\n",
        "\n",
        "    # Plot and save losses for the current model\n",
        "    plot_loss(train_losses, val_losses, hyperparam_dir)\n",
        "    evaluate_model_on_test(model, dataloaders[\"test\"], results_dir=hyperparam_dir, device=device)"
      ]
    },
    {
      "cell_type": "code",
      "execution_count": 235,
      "metadata": {},
      "outputs": [
        {
          "name": "stdout",
          "output_type": "stream",
          "text": [
            "Test Accuracy: 0.4650, Test F1: 0.0766, ROC-AUC: 0.7605\n",
            "              precision    recall  f1-score   support\n",
            "\n",
            "    Negative       1.00      0.45      0.62       837\n",
            "    Positive       0.04      1.00      0.08        19\n",
            "\n",
            "    accuracy                           0.46       856\n",
            "   macro avg       0.52      0.73      0.35       856\n",
            "weighted avg       0.98      0.46      0.61       856\n",
            "\n",
            "Test Accuracy: 0.4019, Test F1: 0.0623, ROC-AUC: 0.7368\n",
            "              precision    recall  f1-score   support\n",
            "\n",
            "    Negative       0.99      0.39      0.56       837\n",
            "    Positive       0.03      0.89      0.06        19\n",
            "\n",
            "    accuracy                           0.40       856\n",
            "   macro avg       0.51      0.64      0.31       856\n",
            "weighted avg       0.97      0.40      0.55       856\n",
            "\n"
          ]
        }
      ],
      "source": [
        "# Save the best hyperparameters and models for each model type\n",
        "for model_type in model_types:\n",
        "    best_hyperparams_dir = f\"{root_dir}/results/{model_type}/best_hyperparams\"\n",
        "    os.makedirs(best_hyperparams_dir, exist_ok=True)\n",
        "\n",
        "    with open(f\"{best_hyperparams_dir}/best_hyperparams.txt\", \"w\") as f:\n",
        "        f.write(f\"Best Hyperparameters: {best_hyperparams_by_model[model_type]}\\n\")\n",
        "        f.write(f\"Validation Loss: {best_val_loss_by_model[model_type]:.4f}\\n\")\n",
        "\n",
        "    torch.save(best_model_state_by_model[model_type], f\"{best_hyperparams_dir}/best_model.pth\")\n",
        "\n",
        "    # Re-initialize the model with the best hyperparameters\n",
        "    if model_type == \"distance_weighted_gnn\":\n",
        "        best_model = DistanceWeightedGNN(\n",
        "            in_channels=train_dataset[0].x.shape[1],\n",
        "            op_channels=train_dataset[0].op.shape[1],\n",
        "            out_channels=2,\n",
        "            dropout=best_hyperparams_by_model[model_type][\"dropout\"]\n",
        "        )\n",
        "    elif model_type == \"edge_weighted_gnn\":\n",
        "        best_model = EdgeWeightedGNN(\n",
        "            in_channels=train_dataset[0].x.shape[1],\n",
        "            op_channels=train_dataset[0].op.shape[1],\n",
        "            out_channels=2,\n",
        "            dropout=best_hyperparams_by_model[model_type][\"dropout\"]\n",
        "        )\n",
        "    elif model_type == \"baseline\":\n",
        "        input_dim = train_dataset[0].x.shape[1] + train_dataset[0].op.shape[1]\n",
        "        hidden_dim = 256\n",
        "        output_dim = 2\n",
        "        best_model = BaselineNodeClassifier(\n",
        "            input_dim, hidden_dim, output_dim,\n",
        "            dropout=best_hyperparams_by_model[model_type][\"dropout\"]\n",
        "        )\n",
        "\n",
        "    # Load the best model's state\n",
        "    best_model.load_state_dict(best_model_state_by_model[model_type])\n",
        "    best_model = best_model.to(device) \n",
        "\n",
        "    # Evaluate on the test set \n",
        "    evaluate_model_on_test(best_model, dataloaders[\"test\"], results_dir=best_hyperparams_dir, device=device)"
      ]
    }
  ],
  "metadata": {
    "accelerator": "TPU",
    "colab": {
      "collapsed_sections": [
        "l-CXhWTSgvym"
      ],
      "gpuType": "V28",
      "provenance": []
    },
    "kernelspec": {
      "display_name": "deep",
      "language": "python",
      "name": "python3"
    },
    "language_info": {
      "codemirror_mode": {
        "name": "ipython",
        "version": 3
      },
      "file_extension": ".py",
      "mimetype": "text/x-python",
      "name": "python",
      "nbconvert_exporter": "python",
      "pygments_lexer": "ipython3",
      "version": "3.10.14"
    }
  },
  "nbformat": 4,
  "nbformat_minor": 0
}
